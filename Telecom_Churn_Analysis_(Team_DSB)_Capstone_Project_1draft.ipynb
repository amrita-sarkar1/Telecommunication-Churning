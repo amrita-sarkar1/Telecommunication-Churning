{
  "nbformat": 4,
  "nbformat_minor": 0,
  "metadata": {
    "kernelspec": {
      "display_name": "Python 3",
      "language": "python",
      "name": "python3"
    },
    "language_info": {
      "codemirror_mode": {
        "name": "ipython",
        "version": 3
      },
      "file_extension": ".py",
      "mimetype": "text/x-python",
      "name": "python",
      "nbconvert_exporter": "python",
      "pygments_lexer": "ipython3",
      "version": "3.6.6"
    },
    "colab": {
      "name": "Telecom Churn Analysis (Team DSB)- Capstone Project-1draft.ipynb",
      "provenance": [],
      "collapsed_sections": [],
      "include_colab_link": true
    }
  },
  "cells": [
    {
      "cell_type": "markdown",
      "metadata": {
        "id": "view-in-github",
        "colab_type": "text"
      },
      "source": [
        "<a href=\"https://colab.research.google.com/github/its-amrita-sarkar-01/Telecommunication-Churning-1/blob/main/Telecom_Churn_Analysis_(Team_DSB)_Capstone_Project_1draft.ipynb\" target=\"_parent\"><img src=\"https://colab.research.google.com/assets/colab-badge.svg\" alt=\"Open In Colab\"/></a>"
      ]
    },
    {
      "cell_type": "markdown",
      "metadata": {
        "id": "Y06xIdG26kRF"
      },
      "source": [
        "## <b> Orange S.A., formerly France Télécom S.A., is a French multinational telecommunications corporation. The Orange Telecom's Churn Dataset, consists of cleaned customer activity data (features), along with a churn label specifying whether a customer canceled the subscription.\n",
        "\n",
        "## <b> Explore and analyze the data to discover key factors responsible for customer churn and come up with ways/recommendations to ensure customer retention. </b>"
      ]
    },
    {
      "cell_type": "markdown",
      "metadata": {
        "id": "8rh8wqnY_b0e"
      },
      "source": [
        "***Project Objective***\n",
        "\n",
        "---\n",
        "\n",
        "\n",
        "\n",
        "In this project, we will analyse customer data of a leading telecom company to identify the main indicators of churn and try to provide recommendations for better customer retention."
      ]
    },
    {
      "cell_type": "code",
      "metadata": {
        "id": "dByMsuzT8Tnw"
      },
      "source": [
        "import numpy as np\n",
        "import pandas as pd\n",
        "import matplotlib.pyplot as plt\n",
        "%matplotlib inline\n",
        "import seaborn as sns\n"
      ],
      "execution_count": null,
      "outputs": []
    },
    {
      "cell_type": "code",
      "metadata": {
        "id": "UxgfOJLKbiBX",
        "colab": {
          "base_uri": "https://localhost:8080/"
        },
        "outputId": "233f10d5-6f54-4919-f24b-035ebf94d725"
      },
      "source": [
        "from google.colab import drive\n",
        "drive.mount('/content/drive')"
      ],
      "execution_count": null,
      "outputs": [
        {
          "output_type": "stream",
          "name": "stdout",
          "text": [
            "Mounted at /content/drive\n"
          ]
        }
      ]
    },
    {
      "cell_type": "code",
      "metadata": {
        "id": "ioaoe2ambzgO"
      },
      "source": [
        "path ='/content/drive/MyDrive/Classroom/Team DSB/Telecom Churn.csv'\n",
        "df = pd.read_csv(path)"
      ],
      "execution_count": null,
      "outputs": []
    },
    {
      "cell_type": "markdown",
      "metadata": {
        "id": "PqByeAx2cGRY"
      },
      "source": [
        "# New section"
      ]
    },
    {
      "cell_type": "code",
      "metadata": {
        "id": "a4NbfuRrd2cJ",
        "colab": {
          "base_uri": "https://localhost:8080/"
        },
        "outputId": "26519edd-0e5e-489d-dbaa-141eef3f65dc"
      },
      "source": [
        "df.info()"
      ],
      "execution_count": null,
      "outputs": [
        {
          "output_type": "stream",
          "name": "stdout",
          "text": [
            "<class 'pandas.core.frame.DataFrame'>\n",
            "RangeIndex: 3333 entries, 0 to 3332\n",
            "Data columns (total 20 columns):\n",
            " #   Column                  Non-Null Count  Dtype  \n",
            "---  ------                  --------------  -----  \n",
            " 0   State                   3333 non-null   object \n",
            " 1   Account length          3333 non-null   int64  \n",
            " 2   Area code               3333 non-null   int64  \n",
            " 3   International plan      3333 non-null   object \n",
            " 4   Voice mail plan         3333 non-null   object \n",
            " 5   Number vmail messages   3333 non-null   int64  \n",
            " 6   Total day minutes       3333 non-null   float64\n",
            " 7   Total day calls         3333 non-null   int64  \n",
            " 8   Total day charge        3333 non-null   float64\n",
            " 9   Total eve minutes       3333 non-null   float64\n",
            " 10  Total eve calls         3333 non-null   int64  \n",
            " 11  Total eve charge        3333 non-null   float64\n",
            " 12  Total night minutes     3333 non-null   float64\n",
            " 13  Total night calls       3333 non-null   int64  \n",
            " 14  Total night charge      3333 non-null   float64\n",
            " 15  Total intl minutes      3333 non-null   float64\n",
            " 16  Total intl calls        3333 non-null   int64  \n",
            " 17  Total intl charge       3333 non-null   float64\n",
            " 18  Customer service calls  3333 non-null   int64  \n",
            " 19  Churn                   3333 non-null   bool   \n",
            "dtypes: bool(1), float64(8), int64(8), object(3)\n",
            "memory usage: 498.1+ KB\n"
          ]
        }
      ]
    },
    {
      "cell_type": "markdown",
      "metadata": {
        "id": "5AvbHESkAtGv"
      },
      "source": [
        "From the above analysis we can infer that there are 3333 entries and 20 columns\n",
        "\n",
        "Further we can see that there are no null values ."
      ]
    },
    {
      "cell_type": "code",
      "metadata": {
        "colab": {
          "base_uri": "https://localhost:8080/",
          "height": 354
        },
        "id": "FDCW9ygCAIom",
        "outputId": "5fd5f404-ff60-476a-8921-1f694fd8dddb"
      },
      "source": [
        "df.describe()"
      ],
      "execution_count": null,
      "outputs": [
        {
          "output_type": "execute_result",
          "data": {
            "text/html": [
              "<div>\n",
              "<style scoped>\n",
              "    .dataframe tbody tr th:only-of-type {\n",
              "        vertical-align: middle;\n",
              "    }\n",
              "\n",
              "    .dataframe tbody tr th {\n",
              "        vertical-align: top;\n",
              "    }\n",
              "\n",
              "    .dataframe thead th {\n",
              "        text-align: right;\n",
              "    }\n",
              "</style>\n",
              "<table border=\"1\" class=\"dataframe\">\n",
              "  <thead>\n",
              "    <tr style=\"text-align: right;\">\n",
              "      <th></th>\n",
              "      <th>Account length</th>\n",
              "      <th>Area code</th>\n",
              "      <th>Number vmail messages</th>\n",
              "      <th>Total day minutes</th>\n",
              "      <th>Total day calls</th>\n",
              "      <th>Total day charge</th>\n",
              "      <th>Total eve minutes</th>\n",
              "      <th>Total eve calls</th>\n",
              "      <th>Total eve charge</th>\n",
              "      <th>Total night minutes</th>\n",
              "      <th>Total night calls</th>\n",
              "      <th>Total night charge</th>\n",
              "      <th>Total intl minutes</th>\n",
              "      <th>Total intl calls</th>\n",
              "      <th>Total intl charge</th>\n",
              "      <th>Customer service calls</th>\n",
              "    </tr>\n",
              "  </thead>\n",
              "  <tbody>\n",
              "    <tr>\n",
              "      <th>count</th>\n",
              "      <td>3333.000000</td>\n",
              "      <td>3333.000000</td>\n",
              "      <td>3333.000000</td>\n",
              "      <td>3333.000000</td>\n",
              "      <td>3333.000000</td>\n",
              "      <td>3333.000000</td>\n",
              "      <td>3333.000000</td>\n",
              "      <td>3333.000000</td>\n",
              "      <td>3333.000000</td>\n",
              "      <td>3333.000000</td>\n",
              "      <td>3333.000000</td>\n",
              "      <td>3333.000000</td>\n",
              "      <td>3333.000000</td>\n",
              "      <td>3333.000000</td>\n",
              "      <td>3333.000000</td>\n",
              "      <td>3333.000000</td>\n",
              "    </tr>\n",
              "    <tr>\n",
              "      <th>mean</th>\n",
              "      <td>101.064806</td>\n",
              "      <td>437.182418</td>\n",
              "      <td>8.099010</td>\n",
              "      <td>179.775098</td>\n",
              "      <td>100.435644</td>\n",
              "      <td>30.562307</td>\n",
              "      <td>200.980348</td>\n",
              "      <td>100.114311</td>\n",
              "      <td>17.083540</td>\n",
              "      <td>200.872037</td>\n",
              "      <td>100.107711</td>\n",
              "      <td>9.039325</td>\n",
              "      <td>10.237294</td>\n",
              "      <td>4.479448</td>\n",
              "      <td>2.764581</td>\n",
              "      <td>1.562856</td>\n",
              "    </tr>\n",
              "    <tr>\n",
              "      <th>std</th>\n",
              "      <td>39.822106</td>\n",
              "      <td>42.371290</td>\n",
              "      <td>13.688365</td>\n",
              "      <td>54.467389</td>\n",
              "      <td>20.069084</td>\n",
              "      <td>9.259435</td>\n",
              "      <td>50.713844</td>\n",
              "      <td>19.922625</td>\n",
              "      <td>4.310668</td>\n",
              "      <td>50.573847</td>\n",
              "      <td>19.568609</td>\n",
              "      <td>2.275873</td>\n",
              "      <td>2.791840</td>\n",
              "      <td>2.461214</td>\n",
              "      <td>0.753773</td>\n",
              "      <td>1.315491</td>\n",
              "    </tr>\n",
              "    <tr>\n",
              "      <th>min</th>\n",
              "      <td>1.000000</td>\n",
              "      <td>408.000000</td>\n",
              "      <td>0.000000</td>\n",
              "      <td>0.000000</td>\n",
              "      <td>0.000000</td>\n",
              "      <td>0.000000</td>\n",
              "      <td>0.000000</td>\n",
              "      <td>0.000000</td>\n",
              "      <td>0.000000</td>\n",
              "      <td>23.200000</td>\n",
              "      <td>33.000000</td>\n",
              "      <td>1.040000</td>\n",
              "      <td>0.000000</td>\n",
              "      <td>0.000000</td>\n",
              "      <td>0.000000</td>\n",
              "      <td>0.000000</td>\n",
              "    </tr>\n",
              "    <tr>\n",
              "      <th>25%</th>\n",
              "      <td>74.000000</td>\n",
              "      <td>408.000000</td>\n",
              "      <td>0.000000</td>\n",
              "      <td>143.700000</td>\n",
              "      <td>87.000000</td>\n",
              "      <td>24.430000</td>\n",
              "      <td>166.600000</td>\n",
              "      <td>87.000000</td>\n",
              "      <td>14.160000</td>\n",
              "      <td>167.000000</td>\n",
              "      <td>87.000000</td>\n",
              "      <td>7.520000</td>\n",
              "      <td>8.500000</td>\n",
              "      <td>3.000000</td>\n",
              "      <td>2.300000</td>\n",
              "      <td>1.000000</td>\n",
              "    </tr>\n",
              "    <tr>\n",
              "      <th>50%</th>\n",
              "      <td>101.000000</td>\n",
              "      <td>415.000000</td>\n",
              "      <td>0.000000</td>\n",
              "      <td>179.400000</td>\n",
              "      <td>101.000000</td>\n",
              "      <td>30.500000</td>\n",
              "      <td>201.400000</td>\n",
              "      <td>100.000000</td>\n",
              "      <td>17.120000</td>\n",
              "      <td>201.200000</td>\n",
              "      <td>100.000000</td>\n",
              "      <td>9.050000</td>\n",
              "      <td>10.300000</td>\n",
              "      <td>4.000000</td>\n",
              "      <td>2.780000</td>\n",
              "      <td>1.000000</td>\n",
              "    </tr>\n",
              "    <tr>\n",
              "      <th>75%</th>\n",
              "      <td>127.000000</td>\n",
              "      <td>510.000000</td>\n",
              "      <td>20.000000</td>\n",
              "      <td>216.400000</td>\n",
              "      <td>114.000000</td>\n",
              "      <td>36.790000</td>\n",
              "      <td>235.300000</td>\n",
              "      <td>114.000000</td>\n",
              "      <td>20.000000</td>\n",
              "      <td>235.300000</td>\n",
              "      <td>113.000000</td>\n",
              "      <td>10.590000</td>\n",
              "      <td>12.100000</td>\n",
              "      <td>6.000000</td>\n",
              "      <td>3.270000</td>\n",
              "      <td>2.000000</td>\n",
              "    </tr>\n",
              "    <tr>\n",
              "      <th>max</th>\n",
              "      <td>243.000000</td>\n",
              "      <td>510.000000</td>\n",
              "      <td>51.000000</td>\n",
              "      <td>350.800000</td>\n",
              "      <td>165.000000</td>\n",
              "      <td>59.640000</td>\n",
              "      <td>363.700000</td>\n",
              "      <td>170.000000</td>\n",
              "      <td>30.910000</td>\n",
              "      <td>395.000000</td>\n",
              "      <td>175.000000</td>\n",
              "      <td>17.770000</td>\n",
              "      <td>20.000000</td>\n",
              "      <td>20.000000</td>\n",
              "      <td>5.400000</td>\n",
              "      <td>9.000000</td>\n",
              "    </tr>\n",
              "  </tbody>\n",
              "</table>\n",
              "</div>"
            ],
            "text/plain": [
              "       Account length    Area code  ...  Total intl charge  Customer service calls\n",
              "count     3333.000000  3333.000000  ...        3333.000000             3333.000000\n",
              "mean       101.064806   437.182418  ...           2.764581                1.562856\n",
              "std         39.822106    42.371290  ...           0.753773                1.315491\n",
              "min          1.000000   408.000000  ...           0.000000                0.000000\n",
              "25%         74.000000   408.000000  ...           2.300000                1.000000\n",
              "50%        101.000000   415.000000  ...           2.780000                1.000000\n",
              "75%        127.000000   510.000000  ...           3.270000                2.000000\n",
              "max        243.000000   510.000000  ...           5.400000                9.000000\n",
              "\n",
              "[8 rows x 16 columns]"
            ]
          },
          "metadata": {},
          "execution_count": 6
        }
      ]
    },
    {
      "cell_type": "code",
      "metadata": {
        "id": "CT6KgG8neB6K",
        "colab": {
          "base_uri": "https://localhost:8080/",
          "height": 260
        },
        "outputId": "4af7c5aa-7b2f-4e13-960b-6d04bbd1a636"
      },
      "source": [
        "df.head()"
      ],
      "execution_count": null,
      "outputs": [
        {
          "output_type": "execute_result",
          "data": {
            "text/html": [
              "<div>\n",
              "<style scoped>\n",
              "    .dataframe tbody tr th:only-of-type {\n",
              "        vertical-align: middle;\n",
              "    }\n",
              "\n",
              "    .dataframe tbody tr th {\n",
              "        vertical-align: top;\n",
              "    }\n",
              "\n",
              "    .dataframe thead th {\n",
              "        text-align: right;\n",
              "    }\n",
              "</style>\n",
              "<table border=\"1\" class=\"dataframe\">\n",
              "  <thead>\n",
              "    <tr style=\"text-align: right;\">\n",
              "      <th></th>\n",
              "      <th>State</th>\n",
              "      <th>Account length</th>\n",
              "      <th>Area code</th>\n",
              "      <th>International plan</th>\n",
              "      <th>Voice mail plan</th>\n",
              "      <th>Number vmail messages</th>\n",
              "      <th>Total day minutes</th>\n",
              "      <th>Total day calls</th>\n",
              "      <th>Total day charge</th>\n",
              "      <th>Total eve minutes</th>\n",
              "      <th>Total eve calls</th>\n",
              "      <th>Total eve charge</th>\n",
              "      <th>Total night minutes</th>\n",
              "      <th>Total night calls</th>\n",
              "      <th>Total night charge</th>\n",
              "      <th>Total intl minutes</th>\n",
              "      <th>Total intl calls</th>\n",
              "      <th>Total intl charge</th>\n",
              "      <th>Customer service calls</th>\n",
              "      <th>Churn</th>\n",
              "    </tr>\n",
              "  </thead>\n",
              "  <tbody>\n",
              "    <tr>\n",
              "      <th>0</th>\n",
              "      <td>KS</td>\n",
              "      <td>128</td>\n",
              "      <td>415</td>\n",
              "      <td>No</td>\n",
              "      <td>Yes</td>\n",
              "      <td>25</td>\n",
              "      <td>265.1</td>\n",
              "      <td>110</td>\n",
              "      <td>45.07</td>\n",
              "      <td>197.4</td>\n",
              "      <td>99</td>\n",
              "      <td>16.78</td>\n",
              "      <td>244.7</td>\n",
              "      <td>91</td>\n",
              "      <td>11.01</td>\n",
              "      <td>10.0</td>\n",
              "      <td>3</td>\n",
              "      <td>2.70</td>\n",
              "      <td>1</td>\n",
              "      <td>False</td>\n",
              "    </tr>\n",
              "    <tr>\n",
              "      <th>1</th>\n",
              "      <td>OH</td>\n",
              "      <td>107</td>\n",
              "      <td>415</td>\n",
              "      <td>No</td>\n",
              "      <td>Yes</td>\n",
              "      <td>26</td>\n",
              "      <td>161.6</td>\n",
              "      <td>123</td>\n",
              "      <td>27.47</td>\n",
              "      <td>195.5</td>\n",
              "      <td>103</td>\n",
              "      <td>16.62</td>\n",
              "      <td>254.4</td>\n",
              "      <td>103</td>\n",
              "      <td>11.45</td>\n",
              "      <td>13.7</td>\n",
              "      <td>3</td>\n",
              "      <td>3.70</td>\n",
              "      <td>1</td>\n",
              "      <td>False</td>\n",
              "    </tr>\n",
              "    <tr>\n",
              "      <th>2</th>\n",
              "      <td>NJ</td>\n",
              "      <td>137</td>\n",
              "      <td>415</td>\n",
              "      <td>No</td>\n",
              "      <td>No</td>\n",
              "      <td>0</td>\n",
              "      <td>243.4</td>\n",
              "      <td>114</td>\n",
              "      <td>41.38</td>\n",
              "      <td>121.2</td>\n",
              "      <td>110</td>\n",
              "      <td>10.30</td>\n",
              "      <td>162.6</td>\n",
              "      <td>104</td>\n",
              "      <td>7.32</td>\n",
              "      <td>12.2</td>\n",
              "      <td>5</td>\n",
              "      <td>3.29</td>\n",
              "      <td>0</td>\n",
              "      <td>False</td>\n",
              "    </tr>\n",
              "    <tr>\n",
              "      <th>3</th>\n",
              "      <td>OH</td>\n",
              "      <td>84</td>\n",
              "      <td>408</td>\n",
              "      <td>Yes</td>\n",
              "      <td>No</td>\n",
              "      <td>0</td>\n",
              "      <td>299.4</td>\n",
              "      <td>71</td>\n",
              "      <td>50.90</td>\n",
              "      <td>61.9</td>\n",
              "      <td>88</td>\n",
              "      <td>5.26</td>\n",
              "      <td>196.9</td>\n",
              "      <td>89</td>\n",
              "      <td>8.86</td>\n",
              "      <td>6.6</td>\n",
              "      <td>7</td>\n",
              "      <td>1.78</td>\n",
              "      <td>2</td>\n",
              "      <td>False</td>\n",
              "    </tr>\n",
              "    <tr>\n",
              "      <th>4</th>\n",
              "      <td>OK</td>\n",
              "      <td>75</td>\n",
              "      <td>415</td>\n",
              "      <td>Yes</td>\n",
              "      <td>No</td>\n",
              "      <td>0</td>\n",
              "      <td>166.7</td>\n",
              "      <td>113</td>\n",
              "      <td>28.34</td>\n",
              "      <td>148.3</td>\n",
              "      <td>122</td>\n",
              "      <td>12.61</td>\n",
              "      <td>186.9</td>\n",
              "      <td>121</td>\n",
              "      <td>8.41</td>\n",
              "      <td>10.1</td>\n",
              "      <td>3</td>\n",
              "      <td>2.73</td>\n",
              "      <td>3</td>\n",
              "      <td>False</td>\n",
              "    </tr>\n",
              "  </tbody>\n",
              "</table>\n",
              "</div>"
            ],
            "text/plain": [
              "  State  Account length  ...  Customer service calls  Churn\n",
              "0    KS             128  ...                       1  False\n",
              "1    OH             107  ...                       1  False\n",
              "2    NJ             137  ...                       0  False\n",
              "3    OH              84  ...                       2  False\n",
              "4    OK              75  ...                       3  False\n",
              "\n",
              "[5 rows x 20 columns]"
            ]
          },
          "metadata": {},
          "execution_count": 6
        }
      ]
    },
    {
      "cell_type": "code",
      "metadata": {
        "id": "xTzunLvVeJOv",
        "colab": {
          "base_uri": "https://localhost:8080/",
          "height": 260
        },
        "outputId": "2629d718-3e0e-4808-d561-e63d4d004f4d"
      },
      "source": [
        "df.tail()\n"
      ],
      "execution_count": null,
      "outputs": [
        {
          "output_type": "execute_result",
          "data": {
            "text/html": [
              "<div>\n",
              "<style scoped>\n",
              "    .dataframe tbody tr th:only-of-type {\n",
              "        vertical-align: middle;\n",
              "    }\n",
              "\n",
              "    .dataframe tbody tr th {\n",
              "        vertical-align: top;\n",
              "    }\n",
              "\n",
              "    .dataframe thead th {\n",
              "        text-align: right;\n",
              "    }\n",
              "</style>\n",
              "<table border=\"1\" class=\"dataframe\">\n",
              "  <thead>\n",
              "    <tr style=\"text-align: right;\">\n",
              "      <th></th>\n",
              "      <th>State</th>\n",
              "      <th>Account length</th>\n",
              "      <th>Area code</th>\n",
              "      <th>International plan</th>\n",
              "      <th>Voice mail plan</th>\n",
              "      <th>Number vmail messages</th>\n",
              "      <th>Total day minutes</th>\n",
              "      <th>Total day calls</th>\n",
              "      <th>Total day charge</th>\n",
              "      <th>Total eve minutes</th>\n",
              "      <th>Total eve calls</th>\n",
              "      <th>Total eve charge</th>\n",
              "      <th>Total night minutes</th>\n",
              "      <th>Total night calls</th>\n",
              "      <th>Total night charge</th>\n",
              "      <th>Total intl minutes</th>\n",
              "      <th>Total intl calls</th>\n",
              "      <th>Total intl charge</th>\n",
              "      <th>Customer service calls</th>\n",
              "      <th>Churn</th>\n",
              "    </tr>\n",
              "  </thead>\n",
              "  <tbody>\n",
              "    <tr>\n",
              "      <th>3328</th>\n",
              "      <td>AZ</td>\n",
              "      <td>192</td>\n",
              "      <td>415</td>\n",
              "      <td>No</td>\n",
              "      <td>Yes</td>\n",
              "      <td>36</td>\n",
              "      <td>156.2</td>\n",
              "      <td>77</td>\n",
              "      <td>26.55</td>\n",
              "      <td>215.5</td>\n",
              "      <td>126</td>\n",
              "      <td>18.32</td>\n",
              "      <td>279.1</td>\n",
              "      <td>83</td>\n",
              "      <td>12.56</td>\n",
              "      <td>9.9</td>\n",
              "      <td>6</td>\n",
              "      <td>2.67</td>\n",
              "      <td>2</td>\n",
              "      <td>False</td>\n",
              "    </tr>\n",
              "    <tr>\n",
              "      <th>3329</th>\n",
              "      <td>WV</td>\n",
              "      <td>68</td>\n",
              "      <td>415</td>\n",
              "      <td>No</td>\n",
              "      <td>No</td>\n",
              "      <td>0</td>\n",
              "      <td>231.1</td>\n",
              "      <td>57</td>\n",
              "      <td>39.29</td>\n",
              "      <td>153.4</td>\n",
              "      <td>55</td>\n",
              "      <td>13.04</td>\n",
              "      <td>191.3</td>\n",
              "      <td>123</td>\n",
              "      <td>8.61</td>\n",
              "      <td>9.6</td>\n",
              "      <td>4</td>\n",
              "      <td>2.59</td>\n",
              "      <td>3</td>\n",
              "      <td>False</td>\n",
              "    </tr>\n",
              "    <tr>\n",
              "      <th>3330</th>\n",
              "      <td>RI</td>\n",
              "      <td>28</td>\n",
              "      <td>510</td>\n",
              "      <td>No</td>\n",
              "      <td>No</td>\n",
              "      <td>0</td>\n",
              "      <td>180.8</td>\n",
              "      <td>109</td>\n",
              "      <td>30.74</td>\n",
              "      <td>288.8</td>\n",
              "      <td>58</td>\n",
              "      <td>24.55</td>\n",
              "      <td>191.9</td>\n",
              "      <td>91</td>\n",
              "      <td>8.64</td>\n",
              "      <td>14.1</td>\n",
              "      <td>6</td>\n",
              "      <td>3.81</td>\n",
              "      <td>2</td>\n",
              "      <td>False</td>\n",
              "    </tr>\n",
              "    <tr>\n",
              "      <th>3331</th>\n",
              "      <td>CT</td>\n",
              "      <td>184</td>\n",
              "      <td>510</td>\n",
              "      <td>Yes</td>\n",
              "      <td>No</td>\n",
              "      <td>0</td>\n",
              "      <td>213.8</td>\n",
              "      <td>105</td>\n",
              "      <td>36.35</td>\n",
              "      <td>159.6</td>\n",
              "      <td>84</td>\n",
              "      <td>13.57</td>\n",
              "      <td>139.2</td>\n",
              "      <td>137</td>\n",
              "      <td>6.26</td>\n",
              "      <td>5.0</td>\n",
              "      <td>10</td>\n",
              "      <td>1.35</td>\n",
              "      <td>2</td>\n",
              "      <td>False</td>\n",
              "    </tr>\n",
              "    <tr>\n",
              "      <th>3332</th>\n",
              "      <td>TN</td>\n",
              "      <td>74</td>\n",
              "      <td>415</td>\n",
              "      <td>No</td>\n",
              "      <td>Yes</td>\n",
              "      <td>25</td>\n",
              "      <td>234.4</td>\n",
              "      <td>113</td>\n",
              "      <td>39.85</td>\n",
              "      <td>265.9</td>\n",
              "      <td>82</td>\n",
              "      <td>22.60</td>\n",
              "      <td>241.4</td>\n",
              "      <td>77</td>\n",
              "      <td>10.86</td>\n",
              "      <td>13.7</td>\n",
              "      <td>4</td>\n",
              "      <td>3.70</td>\n",
              "      <td>0</td>\n",
              "      <td>False</td>\n",
              "    </tr>\n",
              "  </tbody>\n",
              "</table>\n",
              "</div>"
            ],
            "text/plain": [
              "     State  Account length  ...  Customer service calls  Churn\n",
              "3328    AZ             192  ...                       2  False\n",
              "3329    WV              68  ...                       3  False\n",
              "3330    RI              28  ...                       2  False\n",
              "3331    CT             184  ...                       2  False\n",
              "3332    TN              74  ...                       0  False\n",
              "\n",
              "[5 rows x 20 columns]"
            ]
          },
          "metadata": {},
          "execution_count": 8
        }
      ]
    },
    {
      "cell_type": "code",
      "metadata": {
        "colab": {
          "base_uri": "https://localhost:8080/"
        },
        "id": "7nZNP8eUBnaG",
        "outputId": "15f646d3-ec46-413d-9d1f-1f3bcbc13304"
      },
      "source": [
        "df.columns"
      ],
      "execution_count": null,
      "outputs": [
        {
          "output_type": "execute_result",
          "data": {
            "text/plain": [
              "Index(['State', 'Account length', 'Area code', 'International plan',\n",
              "       'Voice mail plan', 'Number vmail messages', 'Total day minutes',\n",
              "       'Total day calls', 'Total day charge', 'Total eve minutes',\n",
              "       'Total eve calls', 'Total eve charge', 'Total night minutes',\n",
              "       'Total night calls', 'Total night charge', 'Total intl minutes',\n",
              "       'Total intl calls', 'Total intl charge', 'Customer service calls',\n",
              "       'Churn'],\n",
              "      dtype='object')"
            ]
          },
          "metadata": {},
          "execution_count": 10
        }
      ]
    },
    {
      "cell_type": "markdown",
      "metadata": {
        "id": "2FSh_SWlC63W"
      },
      "source": [
        "**Columns analysis**\n",
        "\n",
        "---\n",
        "\n"
      ]
    },
    {
      "cell_type": "markdown",
      "metadata": {
        "id": "EkWNH15WCcE3"
      },
      "source": [
        "![col.png](data:image/png;base64,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)"
      ]
    },
    {
      "cell_type": "code",
      "metadata": {
        "_uuid": "b020796a83bc9e10b1bc8e9c6439fc006302d999",
        "execution": {
          "iopub.status.busy": "2021-09-12T15:29:57.046380Z",
          "iopub.execute_input": "2021-09-12T15:29:57.046674Z",
          "iopub.status.idle": "2021-09-12T15:29:57.054613Z",
          "shell.execute_reply.started": "2021-09-12T15:29:57.046643Z",
          "shell.execute_reply": "2021-09-12T15:29:57.053703Z"
        },
        "trusted": true,
        "id": "h735fU2ij9GI",
        "colab": {
          "base_uri": "https://localhost:8080/"
        },
        "outputId": "f1e99d42-2cd0-4d48-c0ec-3bec182e6a50"
      },
      "source": [
        "df[\"Churn\"].mean()"
      ],
      "execution_count": null,
      "outputs": [
        {
          "output_type": "execute_result",
          "data": {
            "text/plain": [
              "0.14491449144914492"
            ]
          },
          "metadata": {},
          "execution_count": 7
        }
      ]
    },
    {
      "cell_type": "markdown",
      "metadata": {
        "id": "YbL6jYIMQmth"
      },
      "source": [
        "14.49 % of churn is pretty bad new for Orange telecom\n",
        "\n",
        "\n",
        "\n"
      ]
    },
    {
      "cell_type": "code",
      "metadata": {
        "id": "TOMo39fseOyD",
        "colab": {
          "base_uri": "https://localhost:8080/",
          "height": 981
        },
        "outputId": "158ca2fd-08bf-4f08-ae90-7bce6d424dcc"
      },
      "source": [
        "df.corr()\n"
      ],
      "execution_count": null,
      "outputs": [
        {
          "output_type": "execute_result",
          "data": {
            "text/html": [
              "<div>\n",
              "<style scoped>\n",
              "    .dataframe tbody tr th:only-of-type {\n",
              "        vertical-align: middle;\n",
              "    }\n",
              "\n",
              "    .dataframe tbody tr th {\n",
              "        vertical-align: top;\n",
              "    }\n",
              "\n",
              "    .dataframe thead th {\n",
              "        text-align: right;\n",
              "    }\n",
              "</style>\n",
              "<table border=\"1\" class=\"dataframe\">\n",
              "  <thead>\n",
              "    <tr style=\"text-align: right;\">\n",
              "      <th></th>\n",
              "      <th>Account length</th>\n",
              "      <th>Area code</th>\n",
              "      <th>Number vmail messages</th>\n",
              "      <th>Total day minutes</th>\n",
              "      <th>Total day calls</th>\n",
              "      <th>Total day charge</th>\n",
              "      <th>Total eve minutes</th>\n",
              "      <th>Total eve calls</th>\n",
              "      <th>Total eve charge</th>\n",
              "      <th>Total night minutes</th>\n",
              "      <th>Total night calls</th>\n",
              "      <th>Total night charge</th>\n",
              "      <th>Total intl minutes</th>\n",
              "      <th>Total intl calls</th>\n",
              "      <th>Total intl charge</th>\n",
              "      <th>Customer service calls</th>\n",
              "      <th>Churn</th>\n",
              "    </tr>\n",
              "  </thead>\n",
              "  <tbody>\n",
              "    <tr>\n",
              "      <th>Account length</th>\n",
              "      <td>1.000000</td>\n",
              "      <td>-0.012463</td>\n",
              "      <td>-0.004628</td>\n",
              "      <td>0.006216</td>\n",
              "      <td>0.038470</td>\n",
              "      <td>0.006214</td>\n",
              "      <td>-0.006757</td>\n",
              "      <td>0.019260</td>\n",
              "      <td>-0.006745</td>\n",
              "      <td>-0.008955</td>\n",
              "      <td>-0.013176</td>\n",
              "      <td>-0.008960</td>\n",
              "      <td>0.009514</td>\n",
              "      <td>0.020661</td>\n",
              "      <td>0.009546</td>\n",
              "      <td>-0.003796</td>\n",
              "      <td>0.016541</td>\n",
              "    </tr>\n",
              "    <tr>\n",
              "      <th>Area code</th>\n",
              "      <td>-0.012463</td>\n",
              "      <td>1.000000</td>\n",
              "      <td>-0.001994</td>\n",
              "      <td>-0.008264</td>\n",
              "      <td>-0.009646</td>\n",
              "      <td>-0.008264</td>\n",
              "      <td>0.003580</td>\n",
              "      <td>-0.011886</td>\n",
              "      <td>0.003607</td>\n",
              "      <td>-0.005825</td>\n",
              "      <td>0.016522</td>\n",
              "      <td>-0.005845</td>\n",
              "      <td>-0.018288</td>\n",
              "      <td>-0.024179</td>\n",
              "      <td>-0.018395</td>\n",
              "      <td>0.027572</td>\n",
              "      <td>0.006174</td>\n",
              "    </tr>\n",
              "    <tr>\n",
              "      <th>Number vmail messages</th>\n",
              "      <td>-0.004628</td>\n",
              "      <td>-0.001994</td>\n",
              "      <td>1.000000</td>\n",
              "      <td>0.000778</td>\n",
              "      <td>-0.009548</td>\n",
              "      <td>0.000776</td>\n",
              "      <td>0.017562</td>\n",
              "      <td>-0.005864</td>\n",
              "      <td>0.017578</td>\n",
              "      <td>0.007681</td>\n",
              "      <td>0.007123</td>\n",
              "      <td>0.007663</td>\n",
              "      <td>0.002856</td>\n",
              "      <td>0.013957</td>\n",
              "      <td>0.002884</td>\n",
              "      <td>-0.013263</td>\n",
              "      <td>-0.089728</td>\n",
              "    </tr>\n",
              "    <tr>\n",
              "      <th>Total day minutes</th>\n",
              "      <td>0.006216</td>\n",
              "      <td>-0.008264</td>\n",
              "      <td>0.000778</td>\n",
              "      <td>1.000000</td>\n",
              "      <td>0.006750</td>\n",
              "      <td>1.000000</td>\n",
              "      <td>0.007043</td>\n",
              "      <td>0.015769</td>\n",
              "      <td>0.007029</td>\n",
              "      <td>0.004323</td>\n",
              "      <td>0.022972</td>\n",
              "      <td>0.004300</td>\n",
              "      <td>-0.010155</td>\n",
              "      <td>0.008033</td>\n",
              "      <td>-0.010092</td>\n",
              "      <td>-0.013423</td>\n",
              "      <td>0.205151</td>\n",
              "    </tr>\n",
              "    <tr>\n",
              "      <th>Total day calls</th>\n",
              "      <td>0.038470</td>\n",
              "      <td>-0.009646</td>\n",
              "      <td>-0.009548</td>\n",
              "      <td>0.006750</td>\n",
              "      <td>1.000000</td>\n",
              "      <td>0.006753</td>\n",
              "      <td>-0.021451</td>\n",
              "      <td>0.006462</td>\n",
              "      <td>-0.021449</td>\n",
              "      <td>0.022938</td>\n",
              "      <td>-0.019557</td>\n",
              "      <td>0.022927</td>\n",
              "      <td>0.021565</td>\n",
              "      <td>0.004574</td>\n",
              "      <td>0.021666</td>\n",
              "      <td>-0.018942</td>\n",
              "      <td>0.018459</td>\n",
              "    </tr>\n",
              "    <tr>\n",
              "      <th>Total day charge</th>\n",
              "      <td>0.006214</td>\n",
              "      <td>-0.008264</td>\n",
              "      <td>0.000776</td>\n",
              "      <td>1.000000</td>\n",
              "      <td>0.006753</td>\n",
              "      <td>1.000000</td>\n",
              "      <td>0.007050</td>\n",
              "      <td>0.015769</td>\n",
              "      <td>0.007036</td>\n",
              "      <td>0.004324</td>\n",
              "      <td>0.022972</td>\n",
              "      <td>0.004301</td>\n",
              "      <td>-0.010157</td>\n",
              "      <td>0.008032</td>\n",
              "      <td>-0.010094</td>\n",
              "      <td>-0.013427</td>\n",
              "      <td>0.205151</td>\n",
              "    </tr>\n",
              "    <tr>\n",
              "      <th>Total eve minutes</th>\n",
              "      <td>-0.006757</td>\n",
              "      <td>0.003580</td>\n",
              "      <td>0.017562</td>\n",
              "      <td>0.007043</td>\n",
              "      <td>-0.021451</td>\n",
              "      <td>0.007050</td>\n",
              "      <td>1.000000</td>\n",
              "      <td>-0.011430</td>\n",
              "      <td>1.000000</td>\n",
              "      <td>-0.012584</td>\n",
              "      <td>0.007586</td>\n",
              "      <td>-0.012593</td>\n",
              "      <td>-0.011035</td>\n",
              "      <td>0.002541</td>\n",
              "      <td>-0.011067</td>\n",
              "      <td>-0.012985</td>\n",
              "      <td>0.092796</td>\n",
              "    </tr>\n",
              "    <tr>\n",
              "      <th>Total eve calls</th>\n",
              "      <td>0.019260</td>\n",
              "      <td>-0.011886</td>\n",
              "      <td>-0.005864</td>\n",
              "      <td>0.015769</td>\n",
              "      <td>0.006462</td>\n",
              "      <td>0.015769</td>\n",
              "      <td>-0.011430</td>\n",
              "      <td>1.000000</td>\n",
              "      <td>-0.011423</td>\n",
              "      <td>-0.002093</td>\n",
              "      <td>0.007710</td>\n",
              "      <td>-0.002056</td>\n",
              "      <td>0.008703</td>\n",
              "      <td>0.017434</td>\n",
              "      <td>0.008674</td>\n",
              "      <td>0.002423</td>\n",
              "      <td>0.009233</td>\n",
              "    </tr>\n",
              "    <tr>\n",
              "      <th>Total eve charge</th>\n",
              "      <td>-0.006745</td>\n",
              "      <td>0.003607</td>\n",
              "      <td>0.017578</td>\n",
              "      <td>0.007029</td>\n",
              "      <td>-0.021449</td>\n",
              "      <td>0.007036</td>\n",
              "      <td>1.000000</td>\n",
              "      <td>-0.011423</td>\n",
              "      <td>1.000000</td>\n",
              "      <td>-0.012592</td>\n",
              "      <td>0.007596</td>\n",
              "      <td>-0.012601</td>\n",
              "      <td>-0.011043</td>\n",
              "      <td>0.002541</td>\n",
              "      <td>-0.011074</td>\n",
              "      <td>-0.012987</td>\n",
              "      <td>0.092786</td>\n",
              "    </tr>\n",
              "    <tr>\n",
              "      <th>Total night minutes</th>\n",
              "      <td>-0.008955</td>\n",
              "      <td>-0.005825</td>\n",
              "      <td>0.007681</td>\n",
              "      <td>0.004323</td>\n",
              "      <td>0.022938</td>\n",
              "      <td>0.004324</td>\n",
              "      <td>-0.012584</td>\n",
              "      <td>-0.002093</td>\n",
              "      <td>-0.012592</td>\n",
              "      <td>1.000000</td>\n",
              "      <td>0.011204</td>\n",
              "      <td>0.999999</td>\n",
              "      <td>-0.015207</td>\n",
              "      <td>-0.012353</td>\n",
              "      <td>-0.015180</td>\n",
              "      <td>-0.009288</td>\n",
              "      <td>0.035493</td>\n",
              "    </tr>\n",
              "    <tr>\n",
              "      <th>Total night calls</th>\n",
              "      <td>-0.013176</td>\n",
              "      <td>0.016522</td>\n",
              "      <td>0.007123</td>\n",
              "      <td>0.022972</td>\n",
              "      <td>-0.019557</td>\n",
              "      <td>0.022972</td>\n",
              "      <td>0.007586</td>\n",
              "      <td>0.007710</td>\n",
              "      <td>0.007596</td>\n",
              "      <td>0.011204</td>\n",
              "      <td>1.000000</td>\n",
              "      <td>0.011188</td>\n",
              "      <td>-0.013605</td>\n",
              "      <td>0.000305</td>\n",
              "      <td>-0.013630</td>\n",
              "      <td>-0.012802</td>\n",
              "      <td>0.006141</td>\n",
              "    </tr>\n",
              "    <tr>\n",
              "      <th>Total night charge</th>\n",
              "      <td>-0.008960</td>\n",
              "      <td>-0.005845</td>\n",
              "      <td>0.007663</td>\n",
              "      <td>0.004300</td>\n",
              "      <td>0.022927</td>\n",
              "      <td>0.004301</td>\n",
              "      <td>-0.012593</td>\n",
              "      <td>-0.002056</td>\n",
              "      <td>-0.012601</td>\n",
              "      <td>0.999999</td>\n",
              "      <td>0.011188</td>\n",
              "      <td>1.000000</td>\n",
              "      <td>-0.015214</td>\n",
              "      <td>-0.012329</td>\n",
              "      <td>-0.015186</td>\n",
              "      <td>-0.009277</td>\n",
              "      <td>0.035496</td>\n",
              "    </tr>\n",
              "    <tr>\n",
              "      <th>Total intl minutes</th>\n",
              "      <td>0.009514</td>\n",
              "      <td>-0.018288</td>\n",
              "      <td>0.002856</td>\n",
              "      <td>-0.010155</td>\n",
              "      <td>0.021565</td>\n",
              "      <td>-0.010157</td>\n",
              "      <td>-0.011035</td>\n",
              "      <td>0.008703</td>\n",
              "      <td>-0.011043</td>\n",
              "      <td>-0.015207</td>\n",
              "      <td>-0.013605</td>\n",
              "      <td>-0.015214</td>\n",
              "      <td>1.000000</td>\n",
              "      <td>0.032304</td>\n",
              "      <td>0.999993</td>\n",
              "      <td>-0.009640</td>\n",
              "      <td>0.068239</td>\n",
              "    </tr>\n",
              "    <tr>\n",
              "      <th>Total intl calls</th>\n",
              "      <td>0.020661</td>\n",
              "      <td>-0.024179</td>\n",
              "      <td>0.013957</td>\n",
              "      <td>0.008033</td>\n",
              "      <td>0.004574</td>\n",
              "      <td>0.008032</td>\n",
              "      <td>0.002541</td>\n",
              "      <td>0.017434</td>\n",
              "      <td>0.002541</td>\n",
              "      <td>-0.012353</td>\n",
              "      <td>0.000305</td>\n",
              "      <td>-0.012329</td>\n",
              "      <td>0.032304</td>\n",
              "      <td>1.000000</td>\n",
              "      <td>0.032372</td>\n",
              "      <td>-0.017561</td>\n",
              "      <td>-0.052844</td>\n",
              "    </tr>\n",
              "    <tr>\n",
              "      <th>Total intl charge</th>\n",
              "      <td>0.009546</td>\n",
              "      <td>-0.018395</td>\n",
              "      <td>0.002884</td>\n",
              "      <td>-0.010092</td>\n",
              "      <td>0.021666</td>\n",
              "      <td>-0.010094</td>\n",
              "      <td>-0.011067</td>\n",
              "      <td>0.008674</td>\n",
              "      <td>-0.011074</td>\n",
              "      <td>-0.015180</td>\n",
              "      <td>-0.013630</td>\n",
              "      <td>-0.015186</td>\n",
              "      <td>0.999993</td>\n",
              "      <td>0.032372</td>\n",
              "      <td>1.000000</td>\n",
              "      <td>-0.009675</td>\n",
              "      <td>0.068259</td>\n",
              "    </tr>\n",
              "    <tr>\n",
              "      <th>Customer service calls</th>\n",
              "      <td>-0.003796</td>\n",
              "      <td>0.027572</td>\n",
              "      <td>-0.013263</td>\n",
              "      <td>-0.013423</td>\n",
              "      <td>-0.018942</td>\n",
              "      <td>-0.013427</td>\n",
              "      <td>-0.012985</td>\n",
              "      <td>0.002423</td>\n",
              "      <td>-0.012987</td>\n",
              "      <td>-0.009288</td>\n",
              "      <td>-0.012802</td>\n",
              "      <td>-0.009277</td>\n",
              "      <td>-0.009640</td>\n",
              "      <td>-0.017561</td>\n",
              "      <td>-0.009675</td>\n",
              "      <td>1.000000</td>\n",
              "      <td>0.208750</td>\n",
              "    </tr>\n",
              "    <tr>\n",
              "      <th>Churn</th>\n",
              "      <td>0.016541</td>\n",
              "      <td>0.006174</td>\n",
              "      <td>-0.089728</td>\n",
              "      <td>0.205151</td>\n",
              "      <td>0.018459</td>\n",
              "      <td>0.205151</td>\n",
              "      <td>0.092796</td>\n",
              "      <td>0.009233</td>\n",
              "      <td>0.092786</td>\n",
              "      <td>0.035493</td>\n",
              "      <td>0.006141</td>\n",
              "      <td>0.035496</td>\n",
              "      <td>0.068239</td>\n",
              "      <td>-0.052844</td>\n",
              "      <td>0.068259</td>\n",
              "      <td>0.208750</td>\n",
              "      <td>1.000000</td>\n",
              "    </tr>\n",
              "  </tbody>\n",
              "</table>\n",
              "</div>"
            ],
            "text/plain": [
              "                        Account length  ...     Churn\n",
              "Account length                1.000000  ...  0.016541\n",
              "Area code                    -0.012463  ...  0.006174\n",
              "Number vmail messages        -0.004628  ... -0.089728\n",
              "Total day minutes             0.006216  ...  0.205151\n",
              "Total day calls               0.038470  ...  0.018459\n",
              "Total day charge              0.006214  ...  0.205151\n",
              "Total eve minutes            -0.006757  ...  0.092796\n",
              "Total eve calls               0.019260  ...  0.009233\n",
              "Total eve charge             -0.006745  ...  0.092786\n",
              "Total night minutes          -0.008955  ...  0.035493\n",
              "Total night calls            -0.013176  ...  0.006141\n",
              "Total night charge           -0.008960  ...  0.035496\n",
              "Total intl minutes            0.009514  ...  0.068239\n",
              "Total intl calls              0.020661  ... -0.052844\n",
              "Total intl charge             0.009546  ...  0.068259\n",
              "Customer service calls       -0.003796  ...  0.208750\n",
              "Churn                         0.016541  ...  1.000000\n",
              "\n",
              "[17 rows x 17 columns]"
            ]
          },
          "metadata": {},
          "execution_count": 8
        }
      ]
    },
    {
      "cell_type": "code",
      "metadata": {
        "id": "56jzg9gqfD4d",
        "colab": {
          "base_uri": "https://localhost:8080/"
        },
        "outputId": "12f8c462-0a8c-4ab9-d6cc-0d56a5e9272b"
      },
      "source": [
        "df.isnull().values.sum()"
      ],
      "execution_count": null,
      "outputs": [
        {
          "output_type": "execute_result",
          "data": {
            "text/plain": [
              "0"
            ]
          },
          "metadata": {},
          "execution_count": 9
        }
      ]
    },
    {
      "cell_type": "markdown",
      "metadata": {
        "id": "TgR0qpFzfIA0"
      },
      "source": [
        "There is no missing data in our dataset\n",
        "\n",
        "Churn = False means the customer is still using the service\n",
        "\n",
        "Churn = True means that the customer discontinued the service"
      ]
    },
    {
      "cell_type": "markdown",
      "metadata": {
        "id": "myj3Qx-kFLtS"
      },
      "source": [
        "**Performing Univariate Analysis**\n",
        "\n",
        "---\n",
        "\n",
        "\n",
        "\n",
        "The purpose is to analyse some individual fields to understand how they are affecting the churn of customers."
      ]
    },
    {
      "cell_type": "code",
      "metadata": {
        "id": "QfVHlI2qfRHr",
        "colab": {
          "base_uri": "https://localhost:8080/",
          "height": 427
        },
        "outputId": "17071de4-c155-44f6-c867-4530c7eda820"
      },
      "source": [
        "df_count = (df.Churn.value_counts())\n",
        "total = sum(df_count)\n",
        "data_percentage = (df_count)/total*100\n",
        "plt.figure(figsize=(7,7))\n",
        "plt.pie(data_percentage,explode=(0,0.1), labels = [round(i,2) for i in (list(data_percentage))],colors=['#ff6666','#989898'])\n",
        "plt.title(label ='Churn Percentage',fontstyle='italic',loc= 'left')\n",
        "plt.legend(labels=['False','True'])\n",
        "plt.show()"
      ],
      "execution_count": null,
      "outputs": [
        {
          "output_type": "display_data",
          "data": {
            "image/png": "[encoded data removed]",
            "text/plain": [
              "<Figure size 504x504 with 1 Axes>"
            ]
          },
          "metadata": {}
        }
      ]
    },
    {
      "cell_type": "markdown",
      "metadata": {
        "id": "5jvRZhZaffTZ"
      },
      "source": [
        "From the above pie chart we can infer that ( 483 ) 14.49% of customers have left the company"
      ]
    },
    {
      "cell_type": "code",
      "metadata": {
        "colab": {
          "base_uri": "https://localhost:8080/",
          "height": 585
        },
        "id": "Yvm7NZiwGZ2t",
        "outputId": "7919dead-3ce0-40d6-e34e-b81cce45208b"
      },
      "source": [
        "account_length = df['Account length']\n",
        "plt.rcParams['figure.figsize'] = (10,8)\n",
        "sns.distplot(account_length, hist=True).set(title='Account Length Distribution')\n"
      ],
      "execution_count": null,
      "outputs": [
        {
          "output_type": "stream",
          "name": "stderr",
          "text": [
            "/usr/local/lib/python3.7/dist-packages/seaborn/distributions.py:2557: FutureWarning: `distplot` is a deprecated function and will be removed in a future version. Please adapt your code to use either `displot` (a figure-level function with similar flexibility) or `histplot` (an axes-level function for histograms).\n",
            "  warnings.warn(msg, FutureWarning)\n"
          ]
        },
        {
          "output_type": "execute_result",
          "data": {
            "text/plain": [
              "[Text(0.5, 1.0, 'Account Length Distribution')]"
            ]
          },
          "metadata": {},
          "execution_count": 11
        },
        {
          "output_type": "display_data",
          "data": {
            "image/png": "[encoded data removed]",
            "text/plain": [
              "<Figure size 720x576 with 1 Axes>"
            ]
          },
          "metadata": {
            "needs_background": "light"
          }
        }
      ]
    },
    {
      "cell_type": "code",
      "metadata": {
        "colab": {
          "base_uri": "https://localhost:8080/"
        },
        "id": "jYTLpBM1GvT8",
        "outputId": "a7e3b02f-131d-4d88-bea9-d9d1b6ce9b8c"
      },
      "source": [
        "account_length.describe()"
      ],
      "execution_count": null,
      "outputs": [
        {
          "output_type": "execute_result",
          "data": {
            "text/plain": [
              "count    3333.000000\n",
              "mean      101.064806\n",
              "std        39.822106\n",
              "min         1.000000\n",
              "25%        74.000000\n",
              "50%       101.000000\n",
              "75%       127.000000\n",
              "max       243.000000\n",
              "Name: Account length, dtype: float64"
            ]
          },
          "metadata": {},
          "execution_count": 12
        }
      ]
    },
    {
      "cell_type": "markdown",
      "metadata": {
        "id": "swGl00ldGxsD"
      },
      "source": [
        "It can be seen that customers have a mean of 101.06 days of account length"
      ]
    },
    {
      "cell_type": "code",
      "metadata": {
        "colab": {
          "base_uri": "https://localhost:8080/",
          "height": 503
        },
        "id": "d8LqN4-nHd-Y",
        "outputId": "29f47391-0649-4c9f-a931-d629d6fb506d"
      },
      "source": [
        "# VOICE MAIL PLAN ANALYSIS:\n",
        "voice_plan = df['Voice mail plan'].value_counts()\n",
        "voice_plan.plot(kind = 'bar')\n",
        "plt.xlabel('Voice mail plan Status')\n",
        "plt.ylabel('Number of users')\n",
        "plt.rcParams['figure.figsize'] = (10,5)"
      ],
      "execution_count": null,
      "outputs": [
        {
          "output_type": "display_data",
          "data": {
            "image/png": "[encoded data removed]",
            "text/plain": [
              "<Figure size 720x576 with 1 Axes>"
            ]
          },
          "metadata": {
            "needs_background": "light"
          }
        }
      ]
    },
    {
      "cell_type": "markdown",
      "metadata": {
        "id": "NfR9TR84HkGp"
      },
      "source": [
        "We can see that majority of the customers donot have voice mail plan."
      ]
    },
    {
      "cell_type": "code",
      "metadata": {
        "colab": {
          "base_uri": "https://localhost:8080/",
          "height": 404
        },
        "id": "A8gFVp8MHvT1",
        "outputId": "159bca5f-d744-41f9-8e5f-a14c834d822a"
      },
      "source": [
        "# NUMBER OF VMAIL MESSAGES ANALYSIS:\n",
        "num_vmail = df['Number vmail messages']\n",
        "sns.distplot(num_vmail).set(title='Vmail messages Distribution')\n",
        "plt.rcParams['figure.figsize'] = (10,5)\n"
      ],
      "execution_count": null,
      "outputs": [
        {
          "output_type": "stream",
          "name": "stderr",
          "text": [
            "/usr/local/lib/python3.7/dist-packages/seaborn/distributions.py:2557: FutureWarning: `distplot` is a deprecated function and will be removed in a future version. Please adapt your code to use either `displot` (a figure-level function with similar flexibility) or `histplot` (an axes-level function for histograms).\n",
            "  warnings.warn(msg, FutureWarning)\n"
          ]
        },
        {
          "output_type": "display_data",
          "data": {
            "image/png": "[encoded data removed]",
            "text/plain": [
              "<Figure size 720x360 with 1 Axes>"
            ]
          },
          "metadata": {
            "needs_background": "light"
          }
        }
      ]
    },
    {
      "cell_type": "markdown",
      "metadata": {
        "id": "7HK1tIvOJwwp"
      },
      "source": [
        "We can see that most customers do not have Vamil plan ,hence the density is highest at 0."
      ]
    },
    {
      "cell_type": "code",
      "metadata": {
        "colab": {
          "base_uri": "https://localhost:8080/",
          "height": 422
        },
        "id": "VH3knRhnKYjZ",
        "outputId": "399fe062-fd1d-442b-f9a7-e6dda619e737"
      },
      "source": [
        "#  TOTAL INTERNATIONAL MINUTES ANALYSIS:\n",
        "int_minutes = df['Total intl minutes']\n",
        "sns.distplot(int_minutes, hist=True).set(title='International Minutes Distribution')"
      ],
      "execution_count": null,
      "outputs": [
        {
          "output_type": "stream",
          "name": "stderr",
          "text": [
            "/usr/local/lib/python3.7/dist-packages/seaborn/distributions.py:2557: FutureWarning: `distplot` is a deprecated function and will be removed in a future version. Please adapt your code to use either `displot` (a figure-level function with similar flexibility) or `histplot` (an axes-level function for histograms).\n",
            "  warnings.warn(msg, FutureWarning)\n"
          ]
        },
        {
          "output_type": "execute_result",
          "data": {
            "text/plain": [
              "[Text(0.5, 1.0, 'International Minutes Distribution')]"
            ]
          },
          "metadata": {},
          "execution_count": 21
        },
        {
          "output_type": "display_data",
          "data": {
            "image/png": "[encoded data removed]",
            "text/plain": [
              "<Figure size 720x360 with 1 Axes>"
            ]
          },
          "metadata": {
            "needs_background": "light"
          }
        }
      ]
    },
    {
      "cell_type": "code",
      "metadata": {
        "colab": {
          "base_uri": "https://localhost:8080/",
          "height": 422
        },
        "id": "Oq8aBaYUK0rC",
        "outputId": "6aada58b-4216-4c49-db14-8eabbcc721b0"
      },
      "source": [
        "# TOTAL INTERNATIONAL MINUTES ANALYSIS:\n",
        "int_minutes_with_plan = df.loc[df['International plan']=='Yes','Total intl minutes']\n",
        "sns.distplot(int_minutes_with_plan, hist=True).set(title='International Minutes Distribution Among People With International Plan')"
      ],
      "execution_count": null,
      "outputs": [
        {
          "output_type": "stream",
          "name": "stderr",
          "text": [
            "/usr/local/lib/python3.7/dist-packages/seaborn/distributions.py:2557: FutureWarning: `distplot` is a deprecated function and will be removed in a future version. Please adapt your code to use either `displot` (a figure-level function with similar flexibility) or `histplot` (an axes-level function for histograms).\n",
            "  warnings.warn(msg, FutureWarning)\n"
          ]
        },
        {
          "output_type": "execute_result",
          "data": {
            "text/plain": [
              "[Text(0.5, 1.0, 'International Minutes Distribution Among People With International Plan')]"
            ]
          },
          "metadata": {},
          "execution_count": 22
        },
        {
          "output_type": "display_data",
          "data": {
            "image/png": "[encoded data removed]",
            "text/plain": [
              "<Figure size 720x360 with 1 Axes>"
            ]
          },
          "metadata": {
            "needs_background": "light"
          }
        }
      ]
    },
    {
      "cell_type": "code",
      "metadata": {
        "colab": {
          "base_uri": "https://localhost:8080/",
          "height": 422
        },
        "id": "6hsh7XLfLNQR",
        "outputId": "c195c73f-bc9e-4f26-df70-85a73ba39f42"
      },
      "source": [
        "# TOTAL INTERNATIONAL MINUTES ANALYSIS:\n",
        "int_minutes_without_plan = df.loc[df['International plan']=='No','Total intl minutes']\n",
        "sns.distplot(int_minutes_without_plan, hist=True).set(title='International Minutes Distribution Among People Without International Plan')"
      ],
      "execution_count": null,
      "outputs": [
        {
          "output_type": "stream",
          "name": "stderr",
          "text": [
            "/usr/local/lib/python3.7/dist-packages/seaborn/distributions.py:2557: FutureWarning: `distplot` is a deprecated function and will be removed in a future version. Please adapt your code to use either `displot` (a figure-level function with similar flexibility) or `histplot` (an axes-level function for histograms).\n",
            "  warnings.warn(msg, FutureWarning)\n"
          ]
        },
        {
          "output_type": "execute_result",
          "data": {
            "text/plain": [
              "[Text(0.5, 1.0, 'International Minutes Distribution Among People Without International Plan')]"
            ]
          },
          "metadata": {},
          "execution_count": 23
        },
        {
          "output_type": "display_data",
          "data": {
            "image/png": "[encoded data removed]",
            "text/plain": [
              "<Figure size 720x360 with 1 Axes>"
            ]
          },
          "metadata": {
            "needs_background": "light"
          }
        }
      ]
    },
    {
      "cell_type": "code",
      "metadata": {
        "colab": {
          "base_uri": "https://localhost:8080/"
        },
        "id": "vNCK6JoyLcg-",
        "outputId": "1c36e9c7-0dec-4642-cee3-a925d362070c"
      },
      "source": [
        "int_minutes_without_plan.describe()"
      ],
      "execution_count": null,
      "outputs": [
        {
          "output_type": "execute_result",
          "data": {
            "text/plain": [
              "count    3010.000000\n",
              "mean       10.195349\n",
              "std         2.798937\n",
              "min         0.000000\n",
              "25%         8.400000\n",
              "50%        10.200000\n",
              "75%        12.100000\n",
              "max        18.900000\n",
              "Name: Total intl minutes, dtype: float64"
            ]
          },
          "metadata": {},
          "execution_count": 24
        }
      ]
    },
    {
      "cell_type": "code",
      "metadata": {
        "colab": {
          "base_uri": "https://localhost:8080/"
        },
        "id": "HX_F7Hm0LrQf",
        "outputId": "21887517-458b-48bb-9275-ca13737ac4fe"
      },
      "source": [
        "int_minutes_with_plan.describe()"
      ],
      "execution_count": null,
      "outputs": [
        {
          "output_type": "execute_result",
          "data": {
            "text/plain": [
              "count    323.000000\n",
              "mean      10.628173\n",
              "std        2.697787\n",
              "min        1.300000\n",
              "25%        9.000000\n",
              "50%       10.800000\n",
              "75%       12.200000\n",
              "max       20.000000\n",
              "Name: Total intl minutes, dtype: float64"
            ]
          },
          "metadata": {},
          "execution_count": 26
        }
      ]
    },
    {
      "cell_type": "code",
      "metadata": {
        "colab": {
          "base_uri": "https://localhost:8080/"
        },
        "id": "hTc1dmPXMC_E",
        "outputId": "b3ae1780-9418-41eb-87f4-71c6caa48017"
      },
      "source": [
        "int_charge_with_plan = df.loc[df['International plan']=='Yes','Total intl charge']\n",
        "int_charge_with_plan.describe()"
      ],
      "execution_count": null,
      "outputs": [
        {
          "output_type": "execute_result",
          "data": {
            "text/plain": [
              "count    323.000000\n",
              "mean       2.869907\n",
              "std        0.728151\n",
              "min        0.350000\n",
              "25%        2.430000\n",
              "50%        2.920000\n",
              "75%        3.290000\n",
              "max        5.400000\n",
              "Name: Total intl charge, dtype: float64"
            ]
          },
          "metadata": {},
          "execution_count": 28
        }
      ]
    },
    {
      "cell_type": "code",
      "metadata": {
        "colab": {
          "base_uri": "https://localhost:8080/"
        },
        "id": "F_uOKU4wMb4Q",
        "outputId": "8e324498-9de6-42b3-9df9-1fcc97a98740"
      },
      "source": [
        "int_charge_without_plan = df.loc[df['International plan']=='No','Total intl charge']\n",
        "int_charge_without_plan.describe()\n"
      ],
      "execution_count": null,
      "outputs": [
        {
          "output_type": "execute_result",
          "data": {
            "text/plain": [
              "count    3010.000000\n",
              "mean        2.753279\n",
              "std         0.755716\n",
              "min         0.000000\n",
              "25%         2.270000\n",
              "50%         2.750000\n",
              "75%         3.270000\n",
              "max         5.100000\n",
              "Name: Total intl charge, dtype: float64"
            ]
          },
          "metadata": {},
          "execution_count": 31
        }
      ]
    },
    {
      "cell_type": "code",
      "metadata": {
        "id": "OwSEQzxbPrz3"
      },
      "source": [
        "\n",
        "df['Intl Call rate']=df['Total intl minutes']/df['Total intl charge']"
      ],
      "execution_count": null,
      "outputs": []
    },
    {
      "cell_type": "code",
      "metadata": {
        "colab": {
          "base_uri": "https://localhost:8080/"
        },
        "id": "QD5XMZj7R2Yv",
        "outputId": "cab001d1-48dc-4398-a2c9-6fcb9b3878cf"
      },
      "source": [
        "Cust_no_intl_plan=df.loc[df['International plan']=='No','Intl Call rate']\n",
        "Cust_no_intl_plan.describe()"
      ],
      "execution_count": null,
      "outputs": [
        {
          "output_type": "execute_result",
          "data": {
            "text/plain": [
              "count    2992.000000\n",
              "mean        3.702907\n",
              "std         0.004549\n",
              "min         3.666667\n",
              "25%         3.699634\n",
              "50%         3.703704\n",
              "75%         3.706294\n",
              "max         3.728814\n",
              "Name: Intl Call rate, dtype: float64"
            ]
          },
          "metadata": {},
          "execution_count": 43
        }
      ]
    },
    {
      "cell_type": "code",
      "metadata": {
        "colab": {
          "base_uri": "https://localhost:8080/"
        },
        "id": "DMwg8_HPSTdQ",
        "outputId": "6652f494-a26a-4382-872c-af4440f82eae"
      },
      "source": [
        "Cust_with_intl_plan=df.loc[df['International plan']=='Yes','Intl Call rate']\n",
        "Cust_with_intl_plan.describe()"
      ],
      "execution_count": null,
      "outputs": [
        {
          "output_type": "execute_result",
          "data": {
            "text/plain": [
              "count    323.000000\n",
              "mean       3.703183\n",
              "std        0.004109\n",
              "min        3.684211\n",
              "25%        3.700153\n",
              "50%        3.703704\n",
              "75%        3.706429\n",
              "max        3.714286\n",
              "Name: Intl Call rate, dtype: float64"
            ]
          },
          "metadata": {},
          "execution_count": 44
        }
      ]
    },
    {
      "cell_type": "markdown",
      "metadata": {
        "id": "H5ByN2KSS0PT"
      },
      "source": [
        "**We can see something very interesting with this analysis.Customers with international plans are charged at almost the same rate as customers with no international plan.**"
      ]
    },
    {
      "cell_type": "code",
      "metadata": {
        "colab": {
          "base_uri": "https://localhost:8080/",
          "height": 359
        },
        "id": "46BZY7IeT1GS",
        "outputId": "ad9e6350-f3b5-471b-c839-06f1eba65f45"
      },
      "source": [
        "# AREA CODE ANALYSIS\n",
        "area_code=df['Area code'].value_counts()\n",
        "area_code.plot(kind='bar')\n",
        "plt.title('Customers Distribution Across Area Codes')\n",
        "plt.ylabel('Number of customers')\n",
        "plt.xlabel('Area Code')\n",
        "plt.rcParams['figure.figsize'] = (10,5)"
      ],
      "execution_count": null,
      "outputs": [
        {
          "output_type": "display_data",
          "data": {
            "image/png": "[encoded data removed]",
            "text/plain": [
              "<Figure size 720x360 with 1 Axes>"
            ]
          },
          "metadata": {
            "needs_background": "light"
          }
        }
      ]
    },
    {
      "cell_type": "code",
      "metadata": {
        "colab": {
          "base_uri": "https://localhost:8080/",
          "height": 422
        },
        "id": "gKh4cAetTz1C",
        "outputId": "d6b35478-6116-4670-8b9a-f1ab9be07990"
      },
      "source": [
        "# CUSTOMER SERVICE CALLS ANALYSIS\n",
        "custo_calls = df['Customer service calls']\n",
        "sns.distplot(custo_calls, hist=True).set(title='Customer Service Calls Distribution')"
      ],
      "execution_count": null,
      "outputs": [
        {
          "output_type": "stream",
          "name": "stderr",
          "text": [
            "/usr/local/lib/python3.7/dist-packages/seaborn/distributions.py:2557: FutureWarning: `distplot` is a deprecated function and will be removed in a future version. Please adapt your code to use either `displot` (a figure-level function with similar flexibility) or `histplot` (an axes-level function for histograms).\n",
            "  warnings.warn(msg, FutureWarning)\n"
          ]
        },
        {
          "output_type": "execute_result",
          "data": {
            "text/plain": [
              "[Text(0.5, 1.0, 'Customer Service Calls Distribution')]"
            ]
          },
          "metadata": {},
          "execution_count": 46
        },
        {
          "output_type": "display_data",
          "data": {
            "image/png": "[encoded data removed]",
            "text/plain": [
              "<Figure size 720x360 with 1 Axes>"
            ]
          },
          "metadata": {
            "needs_background": "light"
          }
        }
      ]
    },
    {
      "cell_type": "markdown",
      "metadata": {
        "id": "S2gvvdcVUqcc"
      },
      "source": [
        "We can see that most people made 1  or 2 customer calls."
      ]
    },
    {
      "cell_type": "markdown",
      "metadata": {
        "id": "I4I-z1IMVGJ5"
      },
      "source": [
        "#                                     HEATMAP FOR THE DATASET\n",
        "\n",
        "---\n",
        "\n",
        "\n",
        "\n",
        "\n"
      ]
    },
    {
      "cell_type": "code",
      "metadata": {
        "colab": {
          "base_uri": "https://localhost:8080/",
          "height": 668
        },
        "id": "_E-Ygk5kTzlU",
        "outputId": "45067d82-3085-463e-8891-5ce57e1f84f5"
      },
      "source": [
        "# Getting A Heatmap Co-Relating Various Columns\n",
        "corr = df.corr()\n",
        "mask = np.triu(np.ones_like(corr, dtype=bool))\n",
        "f, ax = plt.subplots(figsize=(11, 9))\n",
        "cmap = sns.diverging_palette(230, 20, as_cmap=True)\n",
        "sns.heatmap(corr, mask=mask, cmap=cmap, vmax=.3, center=0,\n",
        "            square=True, linewidths=.5, cbar_kws={\"shrink\": .5})"
      ],
      "execution_count": null,
      "outputs": [
        {
          "output_type": "execute_result",
          "data": {
            "text/plain": [
              "<matplotlib.axes._subplots.AxesSubplot at 0x7f56d8943d90>"
            ]
          },
          "metadata": {},
          "execution_count": 47
        },
        {
          "output_type": "display_data",
          "data": {
            "image/png": "[encoded data removed]",
            "text/plain": [
              "<Figure size 792x648 with 2 Axes>"
            ]
          },
          "metadata": {
            "needs_background": "light"
          }
        }
      ]
    },
    {
      "cell_type": "markdown",
      "metadata": {
        "id": "kj7ExndEVw6I"
      },
      "source": [
        "**Performing Bi-Variate Analysis With 'Churn' As Pivot Column**\n",
        "\n",
        "---\n",
        "\n",
        "\n",
        "\n",
        "---\n"
      ]
    },
    {
      "cell_type": "code",
      "metadata": {
        "id": "Iq_zSzjafgXU",
        "colab": {
          "base_uri": "https://localhost:8080/",
          "height": 1000
        },
        "outputId": "863aecef-8bab-41c4-fac4-8c4c4d8690fa"
      },
      "source": [
        "#Preparing necessary data for visualisation\n",
        "slist=df['State'].values\n",
        "#To distinguish between Churn True and False \n",
        "df_true = pd.DataFrame(df[df['Churn']==True].groupby(['State']).count().iloc[:]['Churn']).reset_index()\n",
        "df_false = pd.DataFrame(df[df['Churn']==False].groupby(['State']).count().iloc[:]['Churn']).reset_index()\n",
        "#Merging both the dataframes\n",
        "df_tf = pd.merge(df_true,df_false,on='State')\n",
        "df_tf.columns=['State','Churn True','Churn False']\n",
        "df_tf['Total']= df_tf['Churn False']+df_tf['Churn True']"
      ],
      "execution_count": null,
      "outputs": [
        {
          "output_type": "execute_result",
          "data": {
            "text/html": [
              "<div>\n",
              "<style scoped>\n",
              "    .dataframe tbody tr th:only-of-type {\n",
              "        vertical-align: middle;\n",
              "    }\n",
              "\n",
              "    .dataframe tbody tr th {\n",
              "        vertical-align: top;\n",
              "    }\n",
              "\n",
              "    .dataframe thead th {\n",
              "        text-align: right;\n",
              "    }\n",
              "</style>\n",
              "<table border=\"1\" class=\"dataframe\">\n",
              "  <thead>\n",
              "    <tr style=\"text-align: right;\">\n",
              "      <th></th>\n",
              "      <th>State</th>\n",
              "      <th>Churn True</th>\n",
              "      <th>Churn False</th>\n",
              "    </tr>\n",
              "  </thead>\n",
              "  <tbody>\n",
              "    <tr>\n",
              "      <th>0</th>\n",
              "      <td>AK</td>\n",
              "      <td>3</td>\n",
              "      <td>49</td>\n",
              "    </tr>\n",
              "    <tr>\n",
              "      <th>1</th>\n",
              "      <td>AL</td>\n",
              "      <td>8</td>\n",
              "      <td>72</td>\n",
              "    </tr>\n",
              "    <tr>\n",
              "      <th>2</th>\n",
              "      <td>AR</td>\n",
              "      <td>11</td>\n",
              "      <td>44</td>\n",
              "    </tr>\n",
              "    <tr>\n",
              "      <th>3</th>\n",
              "      <td>AZ</td>\n",
              "      <td>4</td>\n",
              "      <td>60</td>\n",
              "    </tr>\n",
              "    <tr>\n",
              "      <th>4</th>\n",
              "      <td>CA</td>\n",
              "      <td>9</td>\n",
              "      <td>25</td>\n",
              "    </tr>\n",
              "    <tr>\n",
              "      <th>5</th>\n",
              "      <td>CO</td>\n",
              "      <td>9</td>\n",
              "      <td>57</td>\n",
              "    </tr>\n",
              "    <tr>\n",
              "      <th>6</th>\n",
              "      <td>CT</td>\n",
              "      <td>12</td>\n",
              "      <td>62</td>\n",
              "    </tr>\n",
              "    <tr>\n",
              "      <th>7</th>\n",
              "      <td>DC</td>\n",
              "      <td>5</td>\n",
              "      <td>49</td>\n",
              "    </tr>\n",
              "    <tr>\n",
              "      <th>8</th>\n",
              "      <td>DE</td>\n",
              "      <td>9</td>\n",
              "      <td>52</td>\n",
              "    </tr>\n",
              "    <tr>\n",
              "      <th>9</th>\n",
              "      <td>FL</td>\n",
              "      <td>8</td>\n",
              "      <td>55</td>\n",
              "    </tr>\n",
              "    <tr>\n",
              "      <th>10</th>\n",
              "      <td>GA</td>\n",
              "      <td>8</td>\n",
              "      <td>46</td>\n",
              "    </tr>\n",
              "    <tr>\n",
              "      <th>11</th>\n",
              "      <td>HI</td>\n",
              "      <td>3</td>\n",
              "      <td>50</td>\n",
              "    </tr>\n",
              "    <tr>\n",
              "      <th>12</th>\n",
              "      <td>IA</td>\n",
              "      <td>3</td>\n",
              "      <td>41</td>\n",
              "    </tr>\n",
              "    <tr>\n",
              "      <th>13</th>\n",
              "      <td>ID</td>\n",
              "      <td>9</td>\n",
              "      <td>64</td>\n",
              "    </tr>\n",
              "    <tr>\n",
              "      <th>14</th>\n",
              "      <td>IL</td>\n",
              "      <td>5</td>\n",
              "      <td>53</td>\n",
              "    </tr>\n",
              "    <tr>\n",
              "      <th>15</th>\n",
              "      <td>IN</td>\n",
              "      <td>9</td>\n",
              "      <td>62</td>\n",
              "    </tr>\n",
              "    <tr>\n",
              "      <th>16</th>\n",
              "      <td>KS</td>\n",
              "      <td>13</td>\n",
              "      <td>57</td>\n",
              "    </tr>\n",
              "    <tr>\n",
              "      <th>17</th>\n",
              "      <td>KY</td>\n",
              "      <td>8</td>\n",
              "      <td>51</td>\n",
              "    </tr>\n",
              "    <tr>\n",
              "      <th>18</th>\n",
              "      <td>LA</td>\n",
              "      <td>4</td>\n",
              "      <td>47</td>\n",
              "    </tr>\n",
              "    <tr>\n",
              "      <th>19</th>\n",
              "      <td>MA</td>\n",
              "      <td>11</td>\n",
              "      <td>54</td>\n",
              "    </tr>\n",
              "    <tr>\n",
              "      <th>20</th>\n",
              "      <td>MD</td>\n",
              "      <td>17</td>\n",
              "      <td>53</td>\n",
              "    </tr>\n",
              "    <tr>\n",
              "      <th>21</th>\n",
              "      <td>ME</td>\n",
              "      <td>13</td>\n",
              "      <td>49</td>\n",
              "    </tr>\n",
              "    <tr>\n",
              "      <th>22</th>\n",
              "      <td>MI</td>\n",
              "      <td>16</td>\n",
              "      <td>57</td>\n",
              "    </tr>\n",
              "    <tr>\n",
              "      <th>23</th>\n",
              "      <td>MN</td>\n",
              "      <td>15</td>\n",
              "      <td>69</td>\n",
              "    </tr>\n",
              "    <tr>\n",
              "      <th>24</th>\n",
              "      <td>MO</td>\n",
              "      <td>7</td>\n",
              "      <td>56</td>\n",
              "    </tr>\n",
              "    <tr>\n",
              "      <th>25</th>\n",
              "      <td>MS</td>\n",
              "      <td>14</td>\n",
              "      <td>51</td>\n",
              "    </tr>\n",
              "    <tr>\n",
              "      <th>26</th>\n",
              "      <td>MT</td>\n",
              "      <td>14</td>\n",
              "      <td>54</td>\n",
              "    </tr>\n",
              "    <tr>\n",
              "      <th>27</th>\n",
              "      <td>NC</td>\n",
              "      <td>11</td>\n",
              "      <td>57</td>\n",
              "    </tr>\n",
              "    <tr>\n",
              "      <th>28</th>\n",
              "      <td>ND</td>\n",
              "      <td>6</td>\n",
              "      <td>56</td>\n",
              "    </tr>\n",
              "    <tr>\n",
              "      <th>29</th>\n",
              "      <td>NE</td>\n",
              "      <td>5</td>\n",
              "      <td>56</td>\n",
              "    </tr>\n",
              "    <tr>\n",
              "      <th>30</th>\n",
              "      <td>NH</td>\n",
              "      <td>9</td>\n",
              "      <td>47</td>\n",
              "    </tr>\n",
              "    <tr>\n",
              "      <th>31</th>\n",
              "      <td>NJ</td>\n",
              "      <td>18</td>\n",
              "      <td>50</td>\n",
              "    </tr>\n",
              "    <tr>\n",
              "      <th>32</th>\n",
              "      <td>NM</td>\n",
              "      <td>6</td>\n",
              "      <td>56</td>\n",
              "    </tr>\n",
              "    <tr>\n",
              "      <th>33</th>\n",
              "      <td>NV</td>\n",
              "      <td>14</td>\n",
              "      <td>52</td>\n",
              "    </tr>\n",
              "    <tr>\n",
              "      <th>34</th>\n",
              "      <td>NY</td>\n",
              "      <td>15</td>\n",
              "      <td>68</td>\n",
              "    </tr>\n",
              "    <tr>\n",
              "      <th>35</th>\n",
              "      <td>OH</td>\n",
              "      <td>10</td>\n",
              "      <td>68</td>\n",
              "    </tr>\n",
              "    <tr>\n",
              "      <th>36</th>\n",
              "      <td>OK</td>\n",
              "      <td>9</td>\n",
              "      <td>52</td>\n",
              "    </tr>\n",
              "    <tr>\n",
              "      <th>37</th>\n",
              "      <td>OR</td>\n",
              "      <td>11</td>\n",
              "      <td>67</td>\n",
              "    </tr>\n",
              "    <tr>\n",
              "      <th>38</th>\n",
              "      <td>PA</td>\n",
              "      <td>8</td>\n",
              "      <td>37</td>\n",
              "    </tr>\n",
              "    <tr>\n",
              "      <th>39</th>\n",
              "      <td>RI</td>\n",
              "      <td>6</td>\n",
              "      <td>59</td>\n",
              "    </tr>\n",
              "    <tr>\n",
              "      <th>40</th>\n",
              "      <td>SC</td>\n",
              "      <td>14</td>\n",
              "      <td>46</td>\n",
              "    </tr>\n",
              "    <tr>\n",
              "      <th>41</th>\n",
              "      <td>SD</td>\n",
              "      <td>8</td>\n",
              "      <td>52</td>\n",
              "    </tr>\n",
              "    <tr>\n",
              "      <th>42</th>\n",
              "      <td>TN</td>\n",
              "      <td>5</td>\n",
              "      <td>48</td>\n",
              "    </tr>\n",
              "    <tr>\n",
              "      <th>43</th>\n",
              "      <td>TX</td>\n",
              "      <td>18</td>\n",
              "      <td>54</td>\n",
              "    </tr>\n",
              "    <tr>\n",
              "      <th>44</th>\n",
              "      <td>UT</td>\n",
              "      <td>10</td>\n",
              "      <td>62</td>\n",
              "    </tr>\n",
              "    <tr>\n",
              "      <th>45</th>\n",
              "      <td>VA</td>\n",
              "      <td>5</td>\n",
              "      <td>72</td>\n",
              "    </tr>\n",
              "    <tr>\n",
              "      <th>46</th>\n",
              "      <td>VT</td>\n",
              "      <td>8</td>\n",
              "      <td>65</td>\n",
              "    </tr>\n",
              "    <tr>\n",
              "      <th>47</th>\n",
              "      <td>WA</td>\n",
              "      <td>14</td>\n",
              "      <td>52</td>\n",
              "    </tr>\n",
              "    <tr>\n",
              "      <th>48</th>\n",
              "      <td>WI</td>\n",
              "      <td>7</td>\n",
              "      <td>71</td>\n",
              "    </tr>\n",
              "    <tr>\n",
              "      <th>49</th>\n",
              "      <td>WV</td>\n",
              "      <td>10</td>\n",
              "      <td>96</td>\n",
              "    </tr>\n",
              "    <tr>\n",
              "      <th>50</th>\n",
              "      <td>WY</td>\n",
              "      <td>9</td>\n",
              "      <td>68</td>\n",
              "    </tr>\n",
              "  </tbody>\n",
              "</table>\n",
              "</div>"
            ],
            "text/plain": [
              "   State  Churn True  Churn False\n",
              "0     AK           3           49\n",
              "1     AL           8           72\n",
              "2     AR          11           44\n",
              "3     AZ           4           60\n",
              "4     CA           9           25\n",
              "5     CO           9           57\n",
              "6     CT          12           62\n",
              "7     DC           5           49\n",
              "8     DE           9           52\n",
              "9     FL           8           55\n",
              "10    GA           8           46\n",
              "11    HI           3           50\n",
              "12    IA           3           41\n",
              "13    ID           9           64\n",
              "14    IL           5           53\n",
              "15    IN           9           62\n",
              "16    KS          13           57\n",
              "17    KY           8           51\n",
              "18    LA           4           47\n",
              "19    MA          11           54\n",
              "20    MD          17           53\n",
              "21    ME          13           49\n",
              "22    MI          16           57\n",
              "23    MN          15           69\n",
              "24    MO           7           56\n",
              "25    MS          14           51\n",
              "26    MT          14           54\n",
              "27    NC          11           57\n",
              "28    ND           6           56\n",
              "29    NE           5           56\n",
              "30    NH           9           47\n",
              "31    NJ          18           50\n",
              "32    NM           6           56\n",
              "33    NV          14           52\n",
              "34    NY          15           68\n",
              "35    OH          10           68\n",
              "36    OK           9           52\n",
              "37    OR          11           67\n",
              "38    PA           8           37\n",
              "39    RI           6           59\n",
              "40    SC          14           46\n",
              "41    SD           8           52\n",
              "42    TN           5           48\n",
              "43    TX          18           54\n",
              "44    UT          10           62\n",
              "45    VA           5           72\n",
              "46    VT           8           65\n",
              "47    WA          14           52\n",
              "48    WI           7           71\n",
              "49    WV          10           96\n",
              "50    WY           9           68"
            ]
          },
          "metadata": {},
          "execution_count": 35
        }
      ]
    },
    {
      "cell_type": "markdown",
      "metadata": {
        "id": "EqAkUcVUfvsn"
      },
      "source": [
        "Statewise Churn Distribution"
      ]
    },
    {
      "cell_type": "code",
      "metadata": {
        "id": "sNkVhDUofxDK",
        "colab": {
          "base_uri": "https://localhost:8080/",
          "height": 410
        },
        "outputId": "662f26a8-0a7d-4df6-f6da-44d6f28549f5"
      },
      "source": [
        "# Plot 1\n",
        "\n",
        "no_of_states=df_tf['State'].count()\n",
        "\n",
        "labels = slist[:no_of_states]\n",
        "cf = list(df_tf['Churn False'][:no_of_states])\n",
        "ct = list(df_tf['Churn True'][:no_of_states])\n",
        "\n",
        "x= np.arange(len(labels))\n",
        "width = 0.30\n",
        "\n",
        "fig, ax=plt.subplots(figsize=(25,8))\n",
        "\n",
        "r1=ax.bar(x-width/2,cf,width,label='Churn False',color='#FF4032')\n",
        "r2=ax.bar(x+width/2,ct,width,label='Churn True',color='#FF9F99')\n",
        "ax.set_ylabel('Total Churn')\n",
        "ax.set_xlabel('States')\n",
        "ax.set_title('Statewise Churn')\n",
        "ax.set_xticks(x)\n",
        "ax.set_xticklabels(labels)\n",
        "ax.legend()\n",
        "plt.plot()"
      ],
      "execution_count": null,
      "outputs": [
        {
          "output_type": "execute_result",
          "data": {
            "text/plain": [
              "[]"
            ]
          },
          "metadata": {},
          "execution_count": 47
        },
        {
          "output_type": "display_data",
          "data": {
            "image/png": "[encoded data removed]",
            "text/plain": [
              "<Figure size 1800x576 with 1 Axes>"
            ]
          },
          "metadata": {
            "needs_background": "light"
          }
        }
      ]
    },
    {
      "cell_type": "markdown",
      "metadata": {
        "id": "zN7tOBXXf8Yw"
      },
      "source": [
        "1) Over all from the above graph the customers are not prone to churning\n",
        "\n",
        "2) WY,OH,MT & OR are the states which have good retention rate\n",
        "\n",
        "3) Fl,NH & ID are the states which have bad retention rate\n",
        "\n",
        "4) People from state 'WY' are enjoying the telecom service most among all     other states\n",
        "\n",
        "5) NH is the state which has low retention rate"
      ]
    },
    {
      "cell_type": "code",
      "metadata": {
        "colab": {
          "base_uri": "https://localhost:8080/",
          "height": 143
        },
        "id": "NGM-70YLYa77",
        "outputId": "93bfc8e3-73a0-4e8f-d9fb-87c6edcdb84d"
      },
      "source": [
        "#Lets analyse churn based on various plans for the customers\n",
        "pd.crosstab(df[\"Churn\"], df[\"International plan\"])"
      ],
      "execution_count": null,
      "outputs": [
        {
          "output_type": "execute_result",
          "data": {
            "text/html": [
              "<div>\n",
              "<style scoped>\n",
              "    .dataframe tbody tr th:only-of-type {\n",
              "        vertical-align: middle;\n",
              "    }\n",
              "\n",
              "    .dataframe tbody tr th {\n",
              "        vertical-align: top;\n",
              "    }\n",
              "\n",
              "    .dataframe thead th {\n",
              "        text-align: right;\n",
              "    }\n",
              "</style>\n",
              "<table border=\"1\" class=\"dataframe\">\n",
              "  <thead>\n",
              "    <tr style=\"text-align: right;\">\n",
              "      <th>International plan</th>\n",
              "      <th>No</th>\n",
              "      <th>Yes</th>\n",
              "    </tr>\n",
              "    <tr>\n",
              "      <th>Churn</th>\n",
              "      <th></th>\n",
              "      <th></th>\n",
              "    </tr>\n",
              "  </thead>\n",
              "  <tbody>\n",
              "    <tr>\n",
              "      <th>False</th>\n",
              "      <td>2664</td>\n",
              "      <td>186</td>\n",
              "    </tr>\n",
              "    <tr>\n",
              "      <th>True</th>\n",
              "      <td>346</td>\n",
              "      <td>137</td>\n",
              "    </tr>\n",
              "  </tbody>\n",
              "</table>\n",
              "</div>"
            ],
            "text/plain": [
              "International plan    No  Yes\n",
              "Churn                        \n",
              "False               2664  186\n",
              "True                 346  137"
            ]
          },
          "metadata": {},
          "execution_count": 17
        }
      ]
    },
    {
      "cell_type": "code",
      "metadata": {
        "colab": {
          "base_uri": "https://localhost:8080/",
          "height": 143
        },
        "id": "DaLJ5iUIZxMs",
        "outputId": "16bff56a-0cd2-49dc-a339-e341f318a4c6"
      },
      "source": [
        "pd.crosstab(df[\"Churn\"], df[\"Voice mail plan\"], normalize=True)"
      ],
      "execution_count": null,
      "outputs": [
        {
          "output_type": "execute_result",
          "data": {
            "text/html": [
              "<div>\n",
              "<style scoped>\n",
              "    .dataframe tbody tr th:only-of-type {\n",
              "        vertical-align: middle;\n",
              "    }\n",
              "\n",
              "    .dataframe tbody tr th {\n",
              "        vertical-align: top;\n",
              "    }\n",
              "\n",
              "    .dataframe thead th {\n",
              "        text-align: right;\n",
              "    }\n",
              "</style>\n",
              "<table border=\"1\" class=\"dataframe\">\n",
              "  <thead>\n",
              "    <tr style=\"text-align: right;\">\n",
              "      <th>Voice mail plan</th>\n",
              "      <th>No</th>\n",
              "      <th>Yes</th>\n",
              "    </tr>\n",
              "    <tr>\n",
              "      <th>Churn</th>\n",
              "      <th></th>\n",
              "      <th></th>\n",
              "    </tr>\n",
              "  </thead>\n",
              "  <tbody>\n",
              "    <tr>\n",
              "      <th>False</th>\n",
              "      <td>0.602460</td>\n",
              "      <td>0.252625</td>\n",
              "    </tr>\n",
              "    <tr>\n",
              "      <th>True</th>\n",
              "      <td>0.120912</td>\n",
              "      <td>0.024002</td>\n",
              "    </tr>\n",
              "  </tbody>\n",
              "</table>\n",
              "</div>"
            ],
            "text/plain": [
              "Voice mail plan        No       Yes\n",
              "Churn                              \n",
              "False            0.602460  0.252625\n",
              "True             0.120912  0.024002"
            ]
          },
          "metadata": {},
          "execution_count": 18
        }
      ]
    },
    {
      "cell_type": "code",
      "metadata": {
        "id": "Uxcw1aM1giSp",
        "colab": {
          "base_uri": "https://localhost:8080/",
          "height": 427
        },
        "outputId": "60cd1bef-aad1-40eb-8d65-9b5aed61e311"
      },
      "source": [
        "#Finding out number of customers who left company from different plans\n",
        "\n",
        "df_int_plan = pd.DataFrame(df[df['Churn']==True].groupby(['International plan','Voice mail plan']).count())['Churn'].reset_index()\n",
        "\n",
        "#Plot a pie chart \n",
        "plt.figure(figsize=(7,7))\n",
        "plt.pie(df_int_plan['Churn'],explode=(0.1,0.1,0.1,0.1),labels=['No plan','Voice  mail plan','International plan','Both plans'],colors=['#00FA9A','#FFEBCD','#989898','#40E0D0'],autopct=\"%1.2f%%\")\n",
        "\n",
        "plt.title(label =\"Consumer Churn based on different plans\",fontstyle='italic',loc= 'left')\n",
        "plt.show()\n"
      ],
      "execution_count": null,
      "outputs": [
        {
          "output_type": "display_data",
          "data": {
            "image/png": "[encoded data removed]",
            "text/plain": [
              "<Figure size 504x504 with 1 Axes>"
            ]
          },
          "metadata": {}
        }
      ]
    },
    {
      "cell_type": "markdown",
      "metadata": {
        "id": "hZlt3tFmgsMB"
      },
      "source": [
        "From this Plot , we can infer that customers with no plan churn the most. International plan subscribers tend to churn more compared to the voice mail plan customers"
      ]
    },
    {
      "cell_type": "code",
      "metadata": {
        "colab": {
          "base_uri": "https://localhost:8080/"
        },
        "id": "NvexcwcwET3O",
        "outputId": "63b0778a-2ca9-4bd5-9330-a73a734a0add"
      },
      "source": [
        "df['Customer service calls'].value_counts()"
      ],
      "execution_count": null,
      "outputs": [
        {
          "output_type": "execute_result",
          "data": {
            "text/plain": [
              "1    1181\n",
              "2     759\n",
              "0     697\n",
              "3     429\n",
              "4     166\n",
              "5      66\n",
              "6      22\n",
              "7       9\n",
              "9       2\n",
              "8       2\n",
              "Name: Customer service calls, dtype: int64"
            ]
          },
          "metadata": {},
          "execution_count": 32
        }
      ]
    },
    {
      "cell_type": "code",
      "metadata": {
        "colab": {
          "base_uri": "https://localhost:8080/",
          "height": 351
        },
        "id": "bV2rpHoqEaAH",
        "outputId": "abf9a00a-b040-4256-d470-c598568f1af6"
      },
      "source": [
        "sns.boxplot(df['Customer service calls'])"
      ],
      "execution_count": null,
      "outputs": [
        {
          "output_type": "stream",
          "name": "stderr",
          "text": [
            "/usr/local/lib/python3.7/dist-packages/seaborn/_decorators.py:43: FutureWarning: Pass the following variable as a keyword arg: x. From version 0.12, the only valid positional argument will be `data`, and passing other arguments without an explicit keyword will result in an error or misinterpretation.\n",
            "  FutureWarning\n"
          ]
        },
        {
          "output_type": "execute_result",
          "data": {
            "text/plain": [
              "<matplotlib.axes._subplots.AxesSubplot at 0x7f607ea4a590>"
            ]
          },
          "metadata": {},
          "execution_count": 33
        },
        {
          "output_type": "display_data",
          "data": {
            "image/png": "[encoded data removed]",
            "text/plain": [
              "<Figure size 432x288 with 1 Axes>"
            ]
          },
          "metadata": {
            "needs_background": "light"
          }
        }
      ]
    },
    {
      "cell_type": "code",
      "metadata": {
        "colab": {
          "base_uri": "https://localhost:8080/",
          "height": 606
        },
        "id": "FPRSicXaEgl6",
        "outputId": "2953afa5-cadb-4b4d-e054-109ca559088f"
      },
      "source": [
        "plt.rcParams['figure.figsize'] = (15, 10)\n",
        "ax = sns.countplot(x ='Customer service calls', hue = 'Churn', data = df);"
      ],
      "execution_count": null,
      "outputs": [
        {
          "output_type": "display_data",
          "data": {
            "image/png": "[encoded data removed]",
            "text/plain": [
              "<Figure size 1080x720 with 1 Axes>"
            ]
          },
          "metadata": {
            "needs_background": "light"
          }
        }
      ]
    },
    {
      "cell_type": "code",
      "metadata": {
        "id": "dK0DwptYgr1c"
      },
      "source": [
        "df_cc = pd.DataFrame(df[df['Churn']].groupby(['Customer service calls']).count().iloc[:]['Churn']).reset_index()\n",
        "df_cs = pd.DataFrame(df['Customer service calls'].value_counts()).reset_index()"
      ],
      "execution_count": null,
      "outputs": []
    },
    {
      "cell_type": "code",
      "metadata": {
        "id": "ac_Hk3Q4g1i7",
        "colab": {
          "base_uri": "https://localhost:8080/",
          "height": 362
        },
        "outputId": "6885fa5d-d0a1-4593-d95f-f741a368269f"
      },
      "source": [
        "#Lets analyse churn from customer calls point of view.\n",
        "df_c =pd.merge(df_cc,df_cs,left_on='Customer service calls',right_on='index')\n",
        "df_c['%'] = round((df_c['Churn'] / df_c['Customer service calls_y']),2)\n",
        "#Plot a bar graph\n",
        "df_c.plot(kind='bar',color=['#ffe6e6','#ffcccc','#ffb3b3','#ff9999','#ff8080','#ff6666','#ff4d4d','#ff3333','#ff1a1a','#ff0000'],x='%',y='Customer service calls_x',)\n",
        "plt.xlabel('% of customers churn after customer service calls')\n",
        "plt.ylabel('Number of customer service calls')\n",
        "plt.title('Plot of % of people churning after customer service calls')\n",
        "plt.legend().remove()"
      ],
      "execution_count": null,
      "outputs": [
        {
          "output_type": "display_data",
          "data": {
            "image/png": "[encoded data removed]",
            "text/plain": [
              "<Figure size 720x360 with 1 Axes>"
            ]
          },
          "metadata": {
            "needs_background": "light"
          }
        }
      ]
    },
    {
      "cell_type": "markdown",
      "metadata": {
        "id": "CFSfNN7VhCfN"
      },
      "source": [
        "**From this plot it can be observed that customers churn significantly based on customer service calls.**"
      ]
    },
    {
      "cell_type": "code",
      "metadata": {
        "id": "YHJ3V3hShNAw",
        "colab": {
          "base_uri": "https://localhost:8080/"
        },
        "outputId": "c4aaca73-e5e4-41ef-90d3-bfc0d7a1ca15"
      },
      "source": [
        "# Lets get mean values of calls,minutes and charge for day ,eve,night,intl calls\n",
        "A =[int(df.agg({'Total day minutes' : 'mean'})),float(df.agg({'Total day calls' :'mean'})),int(df.agg({'Total day charge' : 'mean'}))]\n",
        "B = [int(df.agg({'Total eve minutes' : 'mean'})),int(df.agg({'Total eve calls' :'mean'})),int(df.agg({'Total eve charge' : 'mean'}))]\n",
        "C =[int(df.agg({'Total night minutes' : 'mean'})),int(df.agg({'Total night calls' :'mean'})),int(df.agg({'Total night charge' : 'mean'}))]\n",
        "D =[int(df.agg({'Total intl minutes' : 'mean'})),int(df.agg({'Total intl calls' :'mean'})),int(df.agg({'Total intl charge' : 'mean'}))]\n",
        "a=[A,B,C,D]\n",
        "a++"
      ],
      "execution_count": null,
      "outputs": [
        {
          "output_type": "execute_result",
          "data": {
            "text/plain": [
              "[[179, 100.43564356435644, 30], [200, 100, 17], [200, 100, 9], [10, 4, 2]]"
            ]
          },
          "metadata": {},
          "execution_count": 31
        }
      ]
    },
    {
      "cell_type": "markdown",
      "metadata": {
        "id": "rMH1LaZchU2S"
      },
      "source": [
        "From the above mean values we can infer that the international call rate per minute seems to be high, if it is made optimal then the customers would retain to the international subscription plan"
      ]
    },
    {
      "cell_type": "code",
      "metadata": {
        "id": "aZPPImpO_gtK"
      },
      "source": [
        ""
      ],
      "execution_count": null,
      "outputs": []
    },
    {
      "cell_type": "code",
      "metadata": {
        "id": "ULo_H5T8hV1w",
        "colab": {
          "base_uri": "https://localhost:8080/",
          "height": 309
        },
        "outputId": "ca3730ae-24df-40ac-e68f-8f08877a2f00"
      },
      "source": [
        "#Lets plot subplots \n",
        "x=['day','eve','night']\n",
        "y=[179.000000,\t200.0,\t200.0]\n",
        "plt.figure(figsize=(15,5))\n",
        "plt.subplot(1,3,1)\n",
        "plt.ylabel('Mean call minutes')\n",
        "plt.title('Mean call minutes across a day')\n",
        "plt.plot(x,y)\n",
        "\n",
        "x=['day','eve','night']\n",
        "y= [100.43564356435644,100,100]\n",
        "plt.subplot(1,3,2)\n",
        "plt.ylabel('Mean calls')\n",
        "plt.title('Mean calls across a day')\n",
        "plt.plot(x,y)\n",
        "\n",
        "x=['day','eve','night']\n",
        "y=[30,17,9]\n",
        "plt.subplot(1,3,3)\n",
        "plt.ylabel('Mean call charges')\n",
        "plt.title('Mean call charges across a day')\n",
        "plt.plot(x,y)\n",
        "plt.subplots_adjust(left=0.25,bottom=0.2,right=0.9,wspace=1,hspace=0.5)"
      ],
      "execution_count": null,
      "outputs": [
        {
          "output_type": "display_data",
          "data": {
            "image/png": "[encoded data removed]",
            "text/plain": [
              "<Figure size 1080x360 with 3 Axes>"
            ]
          },
          "metadata": {
            "needs_background": "light"
          }
        }
      ]
    },
    {
      "cell_type": "markdown",
      "metadata": {
        "id": "srquxU2BhfYF"
      },
      "source": [
        "From these plots we can infer that it costs the most to make day calls"
      ]
    },
    {
      "cell_type": "code",
      "metadata": {
        "id": "VP-D-PU9hgZ9",
        "colab": {
          "base_uri": "https://localhost:8080/",
          "height": 296
        },
        "outputId": "fb9069c9-1975-460e-a789-e3770bc87e3f"
      },
      "source": [
        "df['Total charge']=df['Total day charge']+df['Total eve charge'] + df['Total intl charge']+df['Total night charge']\n",
        "sns.kdeplot(df['Total charge'],shade=True)"
      ],
      "execution_count": null,
      "outputs": [
        {
          "output_type": "execute_result",
          "data": {
            "text/plain": [
              "<matplotlib.axes._subplots.AxesSubplot at 0x7f66470b2050>"
            ]
          },
          "metadata": {},
          "execution_count": 49
        },
        {
          "output_type": "display_data",
          "data": {
            "image/png": "[encoded data removed]",
            "text/plain": [
              "<Figure size 432x288 with 1 Axes>"
            ]
          },
          "metadata": {
            "needs_background": "light"
          }
        }
      ]
    },
    {
      "cell_type": "code",
      "metadata": {
        "id": "vz44PNLnhqIe",
        "colab": {
          "base_uri": "https://localhost:8080/"
        },
        "outputId": "aeb0bf7c-86e3-470a-f8f7-1388eb62cf3f"
      },
      "source": [
        "# Finding mean of total charge for people who have churned\n",
        "df10 =df[df['Churn']==True].groupby(['Total charge']).mean().reset_index()\n",
        "# Finding mean of total charge for people who have not churned\n",
        "df11 = df[df['Churn']==False].groupby(['Total charge']).mean().reset_index()\n",
        "#Finding the percentage variation between the two numbers\n",
        "(df10['Total charge'].mean()-df11['Total charge'].mean())/df11['Total charge'].mean()"
      ],
      "execution_count": null,
      "outputs": [
        {
          "output_type": "execute_result",
          "data": {
            "text/plain": [
              "0.12297707724054738"
            ]
          },
          "metadata": {},
          "execution_count": 51
        }
      ]
    },
    {
      "cell_type": "markdown",
      "metadata": {
        "id": "cdoPmyrvhtku"
      },
      "source": [
        "The mean of the total charge is 12.3 % more for customers who churned compared to the customers who did not churn ."
      ]
    },
    {
      "cell_type": "code",
      "metadata": {
        "colab": {
          "base_uri": "https://localhost:8080/"
        },
        "id": "7J4_oEViWOFU",
        "outputId": "c8973f6b-8b7b-4a59-b52e-fac055472f08"
      },
      "source": [
        "# Sorting account length for analysis\n",
        "df_len_sorted = df.sort_values(['Account length'],ascending = True)\n",
        "\n",
        "TList=[]\n",
        "FList=[]\n",
        "\n",
        "#Getting Details of people with account length within 50\n",
        "TList.append(df_len_sorted.loc[(df_len_sorted['Account length'] <= 50 ) & (df_len_sorted['Churn'] == True)].shape[0])\n",
        "FList.append(df_len_sorted.loc[(df_len_sorted['Account length'] <= 50) & (df_len_sorted['Churn'] == False)].shape[0])\n",
        "\n",
        "#Getting Details of people with account length in range of 50 to 100\n",
        "TList.append(df_len_sorted.loc[(df_len_sorted['Account length'] > 50) & (df_len_sorted['Account length'] <= 100) & (df_len_sorted['Churn'] == True)].shape[0])\n",
        "FList.append(df_len_sorted.loc[(df_len_sorted['Account length'] > 50) & (df_len_sorted['Account length'] <= 100) & (df_len_sorted['Churn'] == False)].shape[0])\n",
        "\n",
        "#Getting Details of people with account length in range of 100 to 150\n",
        "TList.append(df_len_sorted.loc[(df_len_sorted['Account length'] > 100) & (df_len_sorted['Account length'] <= 150) & (df_len_sorted['Churn'] == True)].shape[0])\n",
        "FList.append(df_len_sorted.loc[(df_len_sorted['Account length'] > 100) & (df_len_sorted['Account length'] <= 150) & (df_len_sorted['Churn'] == False)].shape[0])\n",
        "\n",
        "#Getting Details of people with account length in range of 150 to 200\n",
        "TList.append(df_len_sorted.loc[(df_len_sorted['Account length'] > 150) & (df_len_sorted['Account length'] <= 200) & (df_len_sorted['Churn'] == True)].shape[0])\n",
        "FList.append(df_len_sorted.loc[(df_len_sorted['Account length'] > 150) & (df_len_sorted['Account length'] <= 200) & (df_len_sorted['Churn'] == False)].shape[0])\n",
        "\n",
        "#Getting details of customers with account length above 200\n",
        "TList.append(df_len_sorted.loc[(df_len_sorted['Account length'] > 200 ) & (df_len_sorted['Churn'] == True)].shape[0])\n",
        "FList.append(df_len_sorted.loc[(df_len_sorted['Account length'] > 200 ) & (df_len_sorted['Churn'] == False)].shape[0])\n",
        "print(TList)\n",
        "print(FList)"
      ],
      "execution_count": null,
      "outputs": [
        {
          "output_type": "stream",
          "name": "stdout",
          "text": [
            "[44, 190, 195, 48, 6]\n",
            "[297, 1133, 1118, 282, 20]\n"
          ]
        }
      ]
    },
    {
      "cell_type": "code",
      "metadata": {
        "id": "3fnXArsah2em",
        "colab": {
          "base_uri": "https://localhost:8080/",
          "height": 390
        },
        "outputId": "20729788-684e-401b-de79-aee1fd49687c"
      },
      "source": [
        "# Plot a graph of people with various account lengths churning.\n",
        "\n",
        "index=['Account length < 50','50 <= Account length < 100','100 <= Account length < 150','150 <= Account length < 200','Account length => 200']\n",
        "\n",
        "width= 0.35\n",
        "fig, ax = plt.subplots(figsize=(15,6))\n",
        "\n",
        "ax.bar(index,FList,width,label='Churn False',color='#AFEEEE')\n",
        "ax.bar(index,TList,width,bottom=FList,label='Churn True',color='#E0FFFF')\n",
        "ax.set_ylabel('Churn Count')\n",
        "ax.set_title('People with various account lengths and their churning.')\n",
        "ax.legend()\n",
        "plt.show()"
      ],
      "execution_count": null,
      "outputs": [
        {
          "output_type": "display_data",
          "data": {
            "image/png": "[encoded data removed]",
            "text/plain": [
              "<Figure size 1080x432 with 1 Axes>"
            ]
          },
          "metadata": {
            "needs_background": "light"
          }
        }
      ]
    },
    {
      "cell_type": "markdown",
      "metadata": {
        "id": "JYsqmLqVh7OE"
      },
      "source": [
        "From the graph we can infer that customers above account length of 150 are less in number compared to those below account length of 150 and all customers are churning irrespective of their account lengths."
      ]
    },
    {
      "cell_type": "markdown",
      "metadata": {
        "id": "AC4RFwgah8p2"
      },
      "source": [
        "# ***Business Insights:***\n",
        "\n",
        "---\n",
        "\n",
        "\n",
        "\n",
        "1) **14.49%** of customers have left the company.\n",
        "\n",
        "2) **WY,OH,MT & OR** are the states which have **good retention rate**.\n",
        "\n",
        "3) **Fl,NH & ID** are the states which have **bad retention rate**.\n",
        "\n",
        "4) We can infer that people from state **'WY'** are enjoying telecom service most among all other states.                      \n",
        "\n",
        "5) Customers with **no plan churn the most**. International plan subscribers tend to churn more compared to the voice mail plan customers as the cost for international calls are more compared to voice mail.\n",
        "\n",
        "6) **Customers with international plans are charged at almost the same rate as customers with no international plan**.\n",
        "\n",
        "7) Customers with **more customer service calls are definitely churning** the company.\n",
        "\n",
        "8) The mean of the **total charge is 12.3 % more for customers who churned** compared to the customers who did not churn .\n",
        "\n",
        "9) Customers **above account length of 150 are less in number** compared to those below account length of 150 and all customers are churning irrespective of the account length.\n",
        "\n",
        "10)Based on the analysis it can be said that the Churn customers are paying significant tariff mostly during the day hours even though the duration of call minutes is the least among three."
      ]
    },
    {
      "cell_type": "markdown",
      "metadata": {
        "id": "xV3_8Xp6am5Z"
      },
      "source": [
        "# ***Main Reasons for Churning:***\n",
        "\n",
        "\n",
        "\n",
        "---\n",
        "\n",
        "\n",
        "\n",
        "#####    1. Higher call rate during the day hours.\n",
        "\n",
        "#####   2. Increase in customer service calls triggered churning of customers.                         \n",
        "\n",
        "#####    3. International plan facility is not effective."
      ]
    },
    {
      "cell_type": "markdown",
      "metadata": {
        "id": "1dvm30idiLzW"
      },
      "source": [
        "# ***Recommendations :***\n",
        "\n",
        "\n",
        "\n",
        "---\n",
        "\n",
        "\n",
        "\n",
        "1) The company can reduce Day call rates as there is a massive difference between day call rates and night call rates.\n",
        "\n",
        "2)The company can also look at giving offers to their subscription plans so that non subscribers of any plan can be nudged towards purchasing a subscription , as 62.53 % of the total churning is done by non subscribers who dont have a subscrption plan.\n",
        "\n",
        "3) The company can also work towards reducing international call rates so that international call plan holders will not churn the company.\n",
        "\n",
        "4)The company must subsidize the international call rates for customers with international plan as compared to customers with no international plans\n",
        "\n",
        "4) The company can look at reducing customer service calls by resolving the customer issues as soon as possible, because the customers are likely to churn the company as the number of calls increase.\n",
        "\n",
        "5)The telecom company has to provide favourable offers to the \n",
        "customers whose account length is above 150 as loyalty bonus so that the customers wont churn.\n",
        "\n",
        "6) The company might consider rewarding the states with high retention rates and do so very publicly so that customers fromother states are motivated to join the services of the company more .\n",
        "\n",
        "7)The company might also consider doing surveys in low retention states and giving special offers for in those states so as to boost their morale . \n",
        "\n",
        "\n",
        "\n"
      ]
    },
    {
      "cell_type": "code",
      "metadata": {
        "id": "4VZj4BgyiQAu"
      },
      "source": [
        ""
      ],
      "execution_count": null,
      "outputs": []
    },
    {
      "cell_type": "markdown",
      "metadata": {
        "id": "M_GVPz3kiIGv"
      },
      "source": [
        ""
      ]
    }
  ]
}