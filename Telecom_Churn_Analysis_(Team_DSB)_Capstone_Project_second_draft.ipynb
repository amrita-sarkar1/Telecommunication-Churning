{
  "nbformat": 4,
  "nbformat_minor": 0,
  "metadata": {
    "kernelspec": {
      "display_name": "Python 3",
      "language": "python",
      "name": "python3"
    },
    "language_info": {
      "codemirror_mode": {
        "name": "ipython",
        "version": 3
      },
      "file_extension": ".py",
      "mimetype": "text/x-python",
      "name": "python",
      "nbconvert_exporter": "python",
      "pygments_lexer": "ipython3",
      "version": "3.6.6"
    },
    "colab": {
      "name": "Telecom Churn Analysis (Team DSB)- Capstone Project-second draft.ipynb",
      "provenance": [],
      "collapsed_sections": [],
      "include_colab_link": true
    }
  },
  "cells": [
    {
      "cell_type": "markdown",
      "metadata": {
        "id": "view-in-github",
        "colab_type": "text"
      },
      "source": [
        "<a href=\"https://colab.research.google.com/github/its-amrita-sarkar-01/Telecommunication-Churning-1/blob/main/Telecom_Churn_Analysis_(Team_DSB)_Capstone_Project_second_draft.ipynb\" target=\"_parent\"><img src=\"https://colab.research.google.com/assets/colab-badge.svg\" alt=\"Open In Colab\"/></a>"
      ]
    },
    {
      "cell_type": "markdown",
      "metadata": {
        "id": "Y06xIdG26kRF"
      },
      "source": [
        "## <b> Orange S.A., formerly France Télécom S.A., is a French multinational telecommunications corporation. The Orange Telecom's Churn Dataset, consists of cleaned customer activity data (features), along with a churn label specifying whether a customer canceled the subscription.\n",
        "\n",
        "## <b> Explore and analyze the data to discover key factors responsible for customer churn and come up with ways/recommendations to ensure customer retention. </b>"
      ]
    },
    {
      "cell_type": "code",
      "metadata": {
        "id": "dByMsuzT8Tnw"
      },
      "source": [
        "import numpy as np\n",
        "import pandas as pd\n",
        "import matplotlib.pyplot as plt\n",
        "%matplotlib inline\n",
        "import seaborn as sns\n"
      ],
      "execution_count": null,
      "outputs": []
    },
    {
      "cell_type": "code",
      "metadata": {
        "id": "GhSjyZsYomF7"
      },
      "source": [
        "df = pd.read_csv('Telecom Churn.csv')"
      ],
      "execution_count": null,
      "outputs": []
    },
    {
      "cell_type": "markdown",
      "metadata": {
        "id": "PqByeAx2cGRY"
      },
      "source": [
        "# New section"
      ]
    },
    {
      "cell_type": "code",
      "metadata": {
        "id": "a4NbfuRrd2cJ",
        "colab": {
          "base_uri": "https://localhost:8080/"
        },
        "outputId": "623c6a73-928f-431e-e735-a9a148345aca"
      },
      "source": [
        "df.info()"
      ],
      "execution_count": null,
      "outputs": [
        {
          "output_type": "stream",
          "name": "stdout",
          "text": [
            "<class 'pandas.core.frame.DataFrame'>\n",
            "RangeIndex: 3333 entries, 0 to 3332\n",
            "Data columns (total 20 columns):\n",
            " #   Column                  Non-Null Count  Dtype  \n",
            "---  ------                  --------------  -----  \n",
            " 0   State                   3333 non-null   object \n",
            " 1   Account length          3333 non-null   int64  \n",
            " 2   Area code               3333 non-null   int64  \n",
            " 3   International plan      3333 non-null   object \n",
            " 4   Voice mail plan         3333 non-null   object \n",
            " 5   Number vmail messages   3333 non-null   int64  \n",
            " 6   Total day minutes       3333 non-null   float64\n",
            " 7   Total day calls         3333 non-null   int64  \n",
            " 8   Total day charge        3333 non-null   float64\n",
            " 9   Total eve minutes       3333 non-null   float64\n",
            " 10  Total eve calls         3333 non-null   int64  \n",
            " 11  Total eve charge        3333 non-null   float64\n",
            " 12  Total night minutes     3333 non-null   float64\n",
            " 13  Total night calls       3333 non-null   int64  \n",
            " 14  Total night charge      3333 non-null   float64\n",
            " 15  Total intl minutes      3333 non-null   float64\n",
            " 16  Total intl calls        3333 non-null   int64  \n",
            " 17  Total intl charge       3333 non-null   float64\n",
            " 18  Customer service calls  3333 non-null   int64  \n",
            " 19  Churn                   3333 non-null   bool   \n",
            "dtypes: bool(1), float64(8), int64(8), object(3)\n",
            "memory usage: 498.1+ KB\n"
          ]
        }
      ]
    },
    {
      "cell_type": "code",
      "metadata": {
        "id": "CT6KgG8neB6K",
        "colab": {
          "base_uri": "https://localhost:8080/",
          "height": 237
        },
        "outputId": "7742ad1c-914e-49b1-b6cd-7d8c8b5d123c"
      },
      "source": [
        "df.head()"
      ],
      "execution_count": null,
      "outputs": [
        {
          "output_type": "execute_result",
          "data": {
            "text/html": [
              "<div>\n",
              "<style scoped>\n",
              "    .dataframe tbody tr th:only-of-type {\n",
              "        vertical-align: middle;\n",
              "    }\n",
              "\n",
              "    .dataframe tbody tr th {\n",
              "        vertical-align: top;\n",
              "    }\n",
              "\n",
              "    .dataframe thead th {\n",
              "        text-align: right;\n",
              "    }\n",
              "</style>\n",
              "<table border=\"1\" class=\"dataframe\">\n",
              "  <thead>\n",
              "    <tr style=\"text-align: right;\">\n",
              "      <th></th>\n",
              "      <th>State</th>\n",
              "      <th>Account length</th>\n",
              "      <th>Area code</th>\n",
              "      <th>International plan</th>\n",
              "      <th>Voice mail plan</th>\n",
              "      <th>Number vmail messages</th>\n",
              "      <th>Total day minutes</th>\n",
              "      <th>Total day calls</th>\n",
              "      <th>Total day charge</th>\n",
              "      <th>Total eve minutes</th>\n",
              "      <th>Total eve calls</th>\n",
              "      <th>Total eve charge</th>\n",
              "      <th>Total night minutes</th>\n",
              "      <th>Total night calls</th>\n",
              "      <th>Total night charge</th>\n",
              "      <th>Total intl minutes</th>\n",
              "      <th>Total intl calls</th>\n",
              "      <th>Total intl charge</th>\n",
              "      <th>Customer service calls</th>\n",
              "      <th>Churn</th>\n",
              "    </tr>\n",
              "  </thead>\n",
              "  <tbody>\n",
              "    <tr>\n",
              "      <th>0</th>\n",
              "      <td>KS</td>\n",
              "      <td>128</td>\n",
              "      <td>415</td>\n",
              "      <td>No</td>\n",
              "      <td>Yes</td>\n",
              "      <td>25</td>\n",
              "      <td>265.1</td>\n",
              "      <td>110</td>\n",
              "      <td>45.07</td>\n",
              "      <td>197.4</td>\n",
              "      <td>99</td>\n",
              "      <td>16.78</td>\n",
              "      <td>244.7</td>\n",
              "      <td>91</td>\n",
              "      <td>11.01</td>\n",
              "      <td>10.0</td>\n",
              "      <td>3</td>\n",
              "      <td>2.70</td>\n",
              "      <td>1</td>\n",
              "      <td>False</td>\n",
              "    </tr>\n",
              "    <tr>\n",
              "      <th>1</th>\n",
              "      <td>OH</td>\n",
              "      <td>107</td>\n",
              "      <td>415</td>\n",
              "      <td>No</td>\n",
              "      <td>Yes</td>\n",
              "      <td>26</td>\n",
              "      <td>161.6</td>\n",
              "      <td>123</td>\n",
              "      <td>27.47</td>\n",
              "      <td>195.5</td>\n",
              "      <td>103</td>\n",
              "      <td>16.62</td>\n",
              "      <td>254.4</td>\n",
              "      <td>103</td>\n",
              "      <td>11.45</td>\n",
              "      <td>13.7</td>\n",
              "      <td>3</td>\n",
              "      <td>3.70</td>\n",
              "      <td>1</td>\n",
              "      <td>False</td>\n",
              "    </tr>\n",
              "    <tr>\n",
              "      <th>2</th>\n",
              "      <td>NJ</td>\n",
              "      <td>137</td>\n",
              "      <td>415</td>\n",
              "      <td>No</td>\n",
              "      <td>No</td>\n",
              "      <td>0</td>\n",
              "      <td>243.4</td>\n",
              "      <td>114</td>\n",
              "      <td>41.38</td>\n",
              "      <td>121.2</td>\n",
              "      <td>110</td>\n",
              "      <td>10.30</td>\n",
              "      <td>162.6</td>\n",
              "      <td>104</td>\n",
              "      <td>7.32</td>\n",
              "      <td>12.2</td>\n",
              "      <td>5</td>\n",
              "      <td>3.29</td>\n",
              "      <td>0</td>\n",
              "      <td>False</td>\n",
              "    </tr>\n",
              "    <tr>\n",
              "      <th>3</th>\n",
              "      <td>OH</td>\n",
              "      <td>84</td>\n",
              "      <td>408</td>\n",
              "      <td>Yes</td>\n",
              "      <td>No</td>\n",
              "      <td>0</td>\n",
              "      <td>299.4</td>\n",
              "      <td>71</td>\n",
              "      <td>50.90</td>\n",
              "      <td>61.9</td>\n",
              "      <td>88</td>\n",
              "      <td>5.26</td>\n",
              "      <td>196.9</td>\n",
              "      <td>89</td>\n",
              "      <td>8.86</td>\n",
              "      <td>6.6</td>\n",
              "      <td>7</td>\n",
              "      <td>1.78</td>\n",
              "      <td>2</td>\n",
              "      <td>False</td>\n",
              "    </tr>\n",
              "    <tr>\n",
              "      <th>4</th>\n",
              "      <td>OK</td>\n",
              "      <td>75</td>\n",
              "      <td>415</td>\n",
              "      <td>Yes</td>\n",
              "      <td>No</td>\n",
              "      <td>0</td>\n",
              "      <td>166.7</td>\n",
              "      <td>113</td>\n",
              "      <td>28.34</td>\n",
              "      <td>148.3</td>\n",
              "      <td>122</td>\n",
              "      <td>12.61</td>\n",
              "      <td>186.9</td>\n",
              "      <td>121</td>\n",
              "      <td>8.41</td>\n",
              "      <td>10.1</td>\n",
              "      <td>3</td>\n",
              "      <td>2.73</td>\n",
              "      <td>3</td>\n",
              "      <td>False</td>\n",
              "    </tr>\n",
              "  </tbody>\n",
              "</table>\n",
              "</div>"
            ],
            "text/plain": [
              "  State  Account length  ...  Customer service calls  Churn\n",
              "0    KS             128  ...                       1  False\n",
              "1    OH             107  ...                       1  False\n",
              "2    NJ             137  ...                       0  False\n",
              "3    OH              84  ...                       2  False\n",
              "4    OK              75  ...                       3  False\n",
              "\n",
              "[5 rows x 20 columns]"
            ]
          },
          "metadata": {},
          "execution_count": 4
        }
      ]
    },
    {
      "cell_type": "code",
      "metadata": {
        "id": "xTzunLvVeJOv",
        "colab": {
          "base_uri": "https://localhost:8080/",
          "height": 237
        },
        "outputId": "00d9294f-10e1-4016-bdf5-0113325256ef"
      },
      "source": [
        "df.tail()\n"
      ],
      "execution_count": null,
      "outputs": [
        {
          "output_type": "execute_result",
          "data": {
            "text/html": [
              "<div>\n",
              "<style scoped>\n",
              "    .dataframe tbody tr th:only-of-type {\n",
              "        vertical-align: middle;\n",
              "    }\n",
              "\n",
              "    .dataframe tbody tr th {\n",
              "        vertical-align: top;\n",
              "    }\n",
              "\n",
              "    .dataframe thead th {\n",
              "        text-align: right;\n",
              "    }\n",
              "</style>\n",
              "<table border=\"1\" class=\"dataframe\">\n",
              "  <thead>\n",
              "    <tr style=\"text-align: right;\">\n",
              "      <th></th>\n",
              "      <th>State</th>\n",
              "      <th>Account length</th>\n",
              "      <th>Area code</th>\n",
              "      <th>International plan</th>\n",
              "      <th>Voice mail plan</th>\n",
              "      <th>Number vmail messages</th>\n",
              "      <th>Total day minutes</th>\n",
              "      <th>Total day calls</th>\n",
              "      <th>Total day charge</th>\n",
              "      <th>Total eve minutes</th>\n",
              "      <th>Total eve calls</th>\n",
              "      <th>Total eve charge</th>\n",
              "      <th>Total night minutes</th>\n",
              "      <th>Total night calls</th>\n",
              "      <th>Total night charge</th>\n",
              "      <th>Total intl minutes</th>\n",
              "      <th>Total intl calls</th>\n",
              "      <th>Total intl charge</th>\n",
              "      <th>Customer service calls</th>\n",
              "      <th>Churn</th>\n",
              "    </tr>\n",
              "  </thead>\n",
              "  <tbody>\n",
              "    <tr>\n",
              "      <th>3328</th>\n",
              "      <td>AZ</td>\n",
              "      <td>192</td>\n",
              "      <td>415</td>\n",
              "      <td>No</td>\n",
              "      <td>Yes</td>\n",
              "      <td>36</td>\n",
              "      <td>156.2</td>\n",
              "      <td>77</td>\n",
              "      <td>26.55</td>\n",
              "      <td>215.5</td>\n",
              "      <td>126</td>\n",
              "      <td>18.32</td>\n",
              "      <td>279.1</td>\n",
              "      <td>83</td>\n",
              "      <td>12.56</td>\n",
              "      <td>9.9</td>\n",
              "      <td>6</td>\n",
              "      <td>2.67</td>\n",
              "      <td>2</td>\n",
              "      <td>False</td>\n",
              "    </tr>\n",
              "    <tr>\n",
              "      <th>3329</th>\n",
              "      <td>WV</td>\n",
              "      <td>68</td>\n",
              "      <td>415</td>\n",
              "      <td>No</td>\n",
              "      <td>No</td>\n",
              "      <td>0</td>\n",
              "      <td>231.1</td>\n",
              "      <td>57</td>\n",
              "      <td>39.29</td>\n",
              "      <td>153.4</td>\n",
              "      <td>55</td>\n",
              "      <td>13.04</td>\n",
              "      <td>191.3</td>\n",
              "      <td>123</td>\n",
              "      <td>8.61</td>\n",
              "      <td>9.6</td>\n",
              "      <td>4</td>\n",
              "      <td>2.59</td>\n",
              "      <td>3</td>\n",
              "      <td>False</td>\n",
              "    </tr>\n",
              "    <tr>\n",
              "      <th>3330</th>\n",
              "      <td>RI</td>\n",
              "      <td>28</td>\n",
              "      <td>510</td>\n",
              "      <td>No</td>\n",
              "      <td>No</td>\n",
              "      <td>0</td>\n",
              "      <td>180.8</td>\n",
              "      <td>109</td>\n",
              "      <td>30.74</td>\n",
              "      <td>288.8</td>\n",
              "      <td>58</td>\n",
              "      <td>24.55</td>\n",
              "      <td>191.9</td>\n",
              "      <td>91</td>\n",
              "      <td>8.64</td>\n",
              "      <td>14.1</td>\n",
              "      <td>6</td>\n",
              "      <td>3.81</td>\n",
              "      <td>2</td>\n",
              "      <td>False</td>\n",
              "    </tr>\n",
              "    <tr>\n",
              "      <th>3331</th>\n",
              "      <td>CT</td>\n",
              "      <td>184</td>\n",
              "      <td>510</td>\n",
              "      <td>Yes</td>\n",
              "      <td>No</td>\n",
              "      <td>0</td>\n",
              "      <td>213.8</td>\n",
              "      <td>105</td>\n",
              "      <td>36.35</td>\n",
              "      <td>159.6</td>\n",
              "      <td>84</td>\n",
              "      <td>13.57</td>\n",
              "      <td>139.2</td>\n",
              "      <td>137</td>\n",
              "      <td>6.26</td>\n",
              "      <td>5.0</td>\n",
              "      <td>10</td>\n",
              "      <td>1.35</td>\n",
              "      <td>2</td>\n",
              "      <td>False</td>\n",
              "    </tr>\n",
              "    <tr>\n",
              "      <th>3332</th>\n",
              "      <td>TN</td>\n",
              "      <td>74</td>\n",
              "      <td>415</td>\n",
              "      <td>No</td>\n",
              "      <td>Yes</td>\n",
              "      <td>25</td>\n",
              "      <td>234.4</td>\n",
              "      <td>113</td>\n",
              "      <td>39.85</td>\n",
              "      <td>265.9</td>\n",
              "      <td>82</td>\n",
              "      <td>22.60</td>\n",
              "      <td>241.4</td>\n",
              "      <td>77</td>\n",
              "      <td>10.86</td>\n",
              "      <td>13.7</td>\n",
              "      <td>4</td>\n",
              "      <td>3.70</td>\n",
              "      <td>0</td>\n",
              "      <td>False</td>\n",
              "    </tr>\n",
              "  </tbody>\n",
              "</table>\n",
              "</div>"
            ],
            "text/plain": [
              "     State  Account length  ...  Customer service calls  Churn\n",
              "3328    AZ             192  ...                       2  False\n",
              "3329    WV              68  ...                       3  False\n",
              "3330    RI              28  ...                       2  False\n",
              "3331    CT             184  ...                       2  False\n",
              "3332    TN              74  ...                       0  False\n",
              "\n",
              "[5 rows x 20 columns]"
            ]
          },
          "metadata": {},
          "execution_count": 5
        }
      ]
    },
    {
      "cell_type": "code",
      "metadata": {
        "_uuid": "b020796a83bc9e10b1bc8e9c6439fc006302d999",
        "execution": {
          "iopub.status.busy": "2021-09-12T15:29:57.046380Z",
          "iopub.execute_input": "2021-09-12T15:29:57.046674Z",
          "iopub.status.idle": "2021-09-12T15:29:57.054613Z",
          "shell.execute_reply.started": "2021-09-12T15:29:57.046643Z",
          "shell.execute_reply": "2021-09-12T15:29:57.053703Z"
        },
        "trusted": true,
        "id": "h735fU2ij9GI",
        "colab": {
          "base_uri": "https://localhost:8080/"
        },
        "outputId": "0d5b16ad-7be4-43c1-d86e-2bd533e1f4db"
      },
      "source": [
        "df[\"Churn\"].mean()"
      ],
      "execution_count": null,
      "outputs": [
        {
          "output_type": "execute_result",
          "data": {
            "text/plain": [
              "0.14491449144914492"
            ]
          },
          "metadata": {},
          "execution_count": 6
        }
      ]
    },
    {
      "cell_type": "markdown",
      "metadata": {
        "id": "YbL6jYIMQmth"
      },
      "source": [
        "14.49 % of churn is pretty bad new for Orange telecom\n",
        "\n",
        "\n",
        "\n"
      ]
    },
    {
      "cell_type": "code",
      "metadata": {
        "id": "TOMo39fseOyD",
        "colab": {
          "base_uri": "https://localhost:8080/",
          "height": 926
        },
        "outputId": "710c5986-adee-4ae0-cbb2-6c03add10f77"
      },
      "source": [
        "df.corr()\n"
      ],
      "execution_count": null,
      "outputs": [
        {
          "output_type": "execute_result",
          "data": {
            "text/html": [
              "<div>\n",
              "<style scoped>\n",
              "    .dataframe tbody tr th:only-of-type {\n",
              "        vertical-align: middle;\n",
              "    }\n",
              "\n",
              "    .dataframe tbody tr th {\n",
              "        vertical-align: top;\n",
              "    }\n",
              "\n",
              "    .dataframe thead th {\n",
              "        text-align: right;\n",
              "    }\n",
              "</style>\n",
              "<table border=\"1\" class=\"dataframe\">\n",
              "  <thead>\n",
              "    <tr style=\"text-align: right;\">\n",
              "      <th></th>\n",
              "      <th>Account length</th>\n",
              "      <th>Area code</th>\n",
              "      <th>Number vmail messages</th>\n",
              "      <th>Total day minutes</th>\n",
              "      <th>Total day calls</th>\n",
              "      <th>Total day charge</th>\n",
              "      <th>Total eve minutes</th>\n",
              "      <th>Total eve calls</th>\n",
              "      <th>Total eve charge</th>\n",
              "      <th>Total night minutes</th>\n",
              "      <th>Total night calls</th>\n",
              "      <th>Total night charge</th>\n",
              "      <th>Total intl minutes</th>\n",
              "      <th>Total intl calls</th>\n",
              "      <th>Total intl charge</th>\n",
              "      <th>Customer service calls</th>\n",
              "      <th>Churn</th>\n",
              "    </tr>\n",
              "  </thead>\n",
              "  <tbody>\n",
              "    <tr>\n",
              "      <th>Account length</th>\n",
              "      <td>1.000000</td>\n",
              "      <td>-0.012463</td>\n",
              "      <td>-0.004628</td>\n",
              "      <td>0.006216</td>\n",
              "      <td>0.038470</td>\n",
              "      <td>0.006214</td>\n",
              "      <td>-0.006757</td>\n",
              "      <td>0.019260</td>\n",
              "      <td>-0.006745</td>\n",
              "      <td>-0.008955</td>\n",
              "      <td>-0.013176</td>\n",
              "      <td>-0.008960</td>\n",
              "      <td>0.009514</td>\n",
              "      <td>0.020661</td>\n",
              "      <td>0.009546</td>\n",
              "      <td>-0.003796</td>\n",
              "      <td>0.016541</td>\n",
              "    </tr>\n",
              "    <tr>\n",
              "      <th>Area code</th>\n",
              "      <td>-0.012463</td>\n",
              "      <td>1.000000</td>\n",
              "      <td>-0.001994</td>\n",
              "      <td>-0.008264</td>\n",
              "      <td>-0.009646</td>\n",
              "      <td>-0.008264</td>\n",
              "      <td>0.003580</td>\n",
              "      <td>-0.011886</td>\n",
              "      <td>0.003607</td>\n",
              "      <td>-0.005825</td>\n",
              "      <td>0.016522</td>\n",
              "      <td>-0.005845</td>\n",
              "      <td>-0.018288</td>\n",
              "      <td>-0.024179</td>\n",
              "      <td>-0.018395</td>\n",
              "      <td>0.027572</td>\n",
              "      <td>0.006174</td>\n",
              "    </tr>\n",
              "    <tr>\n",
              "      <th>Number vmail messages</th>\n",
              "      <td>-0.004628</td>\n",
              "      <td>-0.001994</td>\n",
              "      <td>1.000000</td>\n",
              "      <td>0.000778</td>\n",
              "      <td>-0.009548</td>\n",
              "      <td>0.000776</td>\n",
              "      <td>0.017562</td>\n",
              "      <td>-0.005864</td>\n",
              "      <td>0.017578</td>\n",
              "      <td>0.007681</td>\n",
              "      <td>0.007123</td>\n",
              "      <td>0.007663</td>\n",
              "      <td>0.002856</td>\n",
              "      <td>0.013957</td>\n",
              "      <td>0.002884</td>\n",
              "      <td>-0.013263</td>\n",
              "      <td>-0.089728</td>\n",
              "    </tr>\n",
              "    <tr>\n",
              "      <th>Total day minutes</th>\n",
              "      <td>0.006216</td>\n",
              "      <td>-0.008264</td>\n",
              "      <td>0.000778</td>\n",
              "      <td>1.000000</td>\n",
              "      <td>0.006750</td>\n",
              "      <td>1.000000</td>\n",
              "      <td>0.007043</td>\n",
              "      <td>0.015769</td>\n",
              "      <td>0.007029</td>\n",
              "      <td>0.004323</td>\n",
              "      <td>0.022972</td>\n",
              "      <td>0.004300</td>\n",
              "      <td>-0.010155</td>\n",
              "      <td>0.008033</td>\n",
              "      <td>-0.010092</td>\n",
              "      <td>-0.013423</td>\n",
              "      <td>0.205151</td>\n",
              "    </tr>\n",
              "    <tr>\n",
              "      <th>Total day calls</th>\n",
              "      <td>0.038470</td>\n",
              "      <td>-0.009646</td>\n",
              "      <td>-0.009548</td>\n",
              "      <td>0.006750</td>\n",
              "      <td>1.000000</td>\n",
              "      <td>0.006753</td>\n",
              "      <td>-0.021451</td>\n",
              "      <td>0.006462</td>\n",
              "      <td>-0.021449</td>\n",
              "      <td>0.022938</td>\n",
              "      <td>-0.019557</td>\n",
              "      <td>0.022927</td>\n",
              "      <td>0.021565</td>\n",
              "      <td>0.004574</td>\n",
              "      <td>0.021666</td>\n",
              "      <td>-0.018942</td>\n",
              "      <td>0.018459</td>\n",
              "    </tr>\n",
              "    <tr>\n",
              "      <th>Total day charge</th>\n",
              "      <td>0.006214</td>\n",
              "      <td>-0.008264</td>\n",
              "      <td>0.000776</td>\n",
              "      <td>1.000000</td>\n",
              "      <td>0.006753</td>\n",
              "      <td>1.000000</td>\n",
              "      <td>0.007050</td>\n",
              "      <td>0.015769</td>\n",
              "      <td>0.007036</td>\n",
              "      <td>0.004324</td>\n",
              "      <td>0.022972</td>\n",
              "      <td>0.004301</td>\n",
              "      <td>-0.010157</td>\n",
              "      <td>0.008032</td>\n",
              "      <td>-0.010094</td>\n",
              "      <td>-0.013427</td>\n",
              "      <td>0.205151</td>\n",
              "    </tr>\n",
              "    <tr>\n",
              "      <th>Total eve minutes</th>\n",
              "      <td>-0.006757</td>\n",
              "      <td>0.003580</td>\n",
              "      <td>0.017562</td>\n",
              "      <td>0.007043</td>\n",
              "      <td>-0.021451</td>\n",
              "      <td>0.007050</td>\n",
              "      <td>1.000000</td>\n",
              "      <td>-0.011430</td>\n",
              "      <td>1.000000</td>\n",
              "      <td>-0.012584</td>\n",
              "      <td>0.007586</td>\n",
              "      <td>-0.012593</td>\n",
              "      <td>-0.011035</td>\n",
              "      <td>0.002541</td>\n",
              "      <td>-0.011067</td>\n",
              "      <td>-0.012985</td>\n",
              "      <td>0.092796</td>\n",
              "    </tr>\n",
              "    <tr>\n",
              "      <th>Total eve calls</th>\n",
              "      <td>0.019260</td>\n",
              "      <td>-0.011886</td>\n",
              "      <td>-0.005864</td>\n",
              "      <td>0.015769</td>\n",
              "      <td>0.006462</td>\n",
              "      <td>0.015769</td>\n",
              "      <td>-0.011430</td>\n",
              "      <td>1.000000</td>\n",
              "      <td>-0.011423</td>\n",
              "      <td>-0.002093</td>\n",
              "      <td>0.007710</td>\n",
              "      <td>-0.002056</td>\n",
              "      <td>0.008703</td>\n",
              "      <td>0.017434</td>\n",
              "      <td>0.008674</td>\n",
              "      <td>0.002423</td>\n",
              "      <td>0.009233</td>\n",
              "    </tr>\n",
              "    <tr>\n",
              "      <th>Total eve charge</th>\n",
              "      <td>-0.006745</td>\n",
              "      <td>0.003607</td>\n",
              "      <td>0.017578</td>\n",
              "      <td>0.007029</td>\n",
              "      <td>-0.021449</td>\n",
              "      <td>0.007036</td>\n",
              "      <td>1.000000</td>\n",
              "      <td>-0.011423</td>\n",
              "      <td>1.000000</td>\n",
              "      <td>-0.012592</td>\n",
              "      <td>0.007596</td>\n",
              "      <td>-0.012601</td>\n",
              "      <td>-0.011043</td>\n",
              "      <td>0.002541</td>\n",
              "      <td>-0.011074</td>\n",
              "      <td>-0.012987</td>\n",
              "      <td>0.092786</td>\n",
              "    </tr>\n",
              "    <tr>\n",
              "      <th>Total night minutes</th>\n",
              "      <td>-0.008955</td>\n",
              "      <td>-0.005825</td>\n",
              "      <td>0.007681</td>\n",
              "      <td>0.004323</td>\n",
              "      <td>0.022938</td>\n",
              "      <td>0.004324</td>\n",
              "      <td>-0.012584</td>\n",
              "      <td>-0.002093</td>\n",
              "      <td>-0.012592</td>\n",
              "      <td>1.000000</td>\n",
              "      <td>0.011204</td>\n",
              "      <td>0.999999</td>\n",
              "      <td>-0.015207</td>\n",
              "      <td>-0.012353</td>\n",
              "      <td>-0.015180</td>\n",
              "      <td>-0.009288</td>\n",
              "      <td>0.035493</td>\n",
              "    </tr>\n",
              "    <tr>\n",
              "      <th>Total night calls</th>\n",
              "      <td>-0.013176</td>\n",
              "      <td>0.016522</td>\n",
              "      <td>0.007123</td>\n",
              "      <td>0.022972</td>\n",
              "      <td>-0.019557</td>\n",
              "      <td>0.022972</td>\n",
              "      <td>0.007586</td>\n",
              "      <td>0.007710</td>\n",
              "      <td>0.007596</td>\n",
              "      <td>0.011204</td>\n",
              "      <td>1.000000</td>\n",
              "      <td>0.011188</td>\n",
              "      <td>-0.013605</td>\n",
              "      <td>0.000305</td>\n",
              "      <td>-0.013630</td>\n",
              "      <td>-0.012802</td>\n",
              "      <td>0.006141</td>\n",
              "    </tr>\n",
              "    <tr>\n",
              "      <th>Total night charge</th>\n",
              "      <td>-0.008960</td>\n",
              "      <td>-0.005845</td>\n",
              "      <td>0.007663</td>\n",
              "      <td>0.004300</td>\n",
              "      <td>0.022927</td>\n",
              "      <td>0.004301</td>\n",
              "      <td>-0.012593</td>\n",
              "      <td>-0.002056</td>\n",
              "      <td>-0.012601</td>\n",
              "      <td>0.999999</td>\n",
              "      <td>0.011188</td>\n",
              "      <td>1.000000</td>\n",
              "      <td>-0.015214</td>\n",
              "      <td>-0.012329</td>\n",
              "      <td>-0.015186</td>\n",
              "      <td>-0.009277</td>\n",
              "      <td>0.035496</td>\n",
              "    </tr>\n",
              "    <tr>\n",
              "      <th>Total intl minutes</th>\n",
              "      <td>0.009514</td>\n",
              "      <td>-0.018288</td>\n",
              "      <td>0.002856</td>\n",
              "      <td>-0.010155</td>\n",
              "      <td>0.021565</td>\n",
              "      <td>-0.010157</td>\n",
              "      <td>-0.011035</td>\n",
              "      <td>0.008703</td>\n",
              "      <td>-0.011043</td>\n",
              "      <td>-0.015207</td>\n",
              "      <td>-0.013605</td>\n",
              "      <td>-0.015214</td>\n",
              "      <td>1.000000</td>\n",
              "      <td>0.032304</td>\n",
              "      <td>0.999993</td>\n",
              "      <td>-0.009640</td>\n",
              "      <td>0.068239</td>\n",
              "    </tr>\n",
              "    <tr>\n",
              "      <th>Total intl calls</th>\n",
              "      <td>0.020661</td>\n",
              "      <td>-0.024179</td>\n",
              "      <td>0.013957</td>\n",
              "      <td>0.008033</td>\n",
              "      <td>0.004574</td>\n",
              "      <td>0.008032</td>\n",
              "      <td>0.002541</td>\n",
              "      <td>0.017434</td>\n",
              "      <td>0.002541</td>\n",
              "      <td>-0.012353</td>\n",
              "      <td>0.000305</td>\n",
              "      <td>-0.012329</td>\n",
              "      <td>0.032304</td>\n",
              "      <td>1.000000</td>\n",
              "      <td>0.032372</td>\n",
              "      <td>-0.017561</td>\n",
              "      <td>-0.052844</td>\n",
              "    </tr>\n",
              "    <tr>\n",
              "      <th>Total intl charge</th>\n",
              "      <td>0.009546</td>\n",
              "      <td>-0.018395</td>\n",
              "      <td>0.002884</td>\n",
              "      <td>-0.010092</td>\n",
              "      <td>0.021666</td>\n",
              "      <td>-0.010094</td>\n",
              "      <td>-0.011067</td>\n",
              "      <td>0.008674</td>\n",
              "      <td>-0.011074</td>\n",
              "      <td>-0.015180</td>\n",
              "      <td>-0.013630</td>\n",
              "      <td>-0.015186</td>\n",
              "      <td>0.999993</td>\n",
              "      <td>0.032372</td>\n",
              "      <td>1.000000</td>\n",
              "      <td>-0.009675</td>\n",
              "      <td>0.068259</td>\n",
              "    </tr>\n",
              "    <tr>\n",
              "      <th>Customer service calls</th>\n",
              "      <td>-0.003796</td>\n",
              "      <td>0.027572</td>\n",
              "      <td>-0.013263</td>\n",
              "      <td>-0.013423</td>\n",
              "      <td>-0.018942</td>\n",
              "      <td>-0.013427</td>\n",
              "      <td>-0.012985</td>\n",
              "      <td>0.002423</td>\n",
              "      <td>-0.012987</td>\n",
              "      <td>-0.009288</td>\n",
              "      <td>-0.012802</td>\n",
              "      <td>-0.009277</td>\n",
              "      <td>-0.009640</td>\n",
              "      <td>-0.017561</td>\n",
              "      <td>-0.009675</td>\n",
              "      <td>1.000000</td>\n",
              "      <td>0.208750</td>\n",
              "    </tr>\n",
              "    <tr>\n",
              "      <th>Churn</th>\n",
              "      <td>0.016541</td>\n",
              "      <td>0.006174</td>\n",
              "      <td>-0.089728</td>\n",
              "      <td>0.205151</td>\n",
              "      <td>0.018459</td>\n",
              "      <td>0.205151</td>\n",
              "      <td>0.092796</td>\n",
              "      <td>0.009233</td>\n",
              "      <td>0.092786</td>\n",
              "      <td>0.035493</td>\n",
              "      <td>0.006141</td>\n",
              "      <td>0.035496</td>\n",
              "      <td>0.068239</td>\n",
              "      <td>-0.052844</td>\n",
              "      <td>0.068259</td>\n",
              "      <td>0.208750</td>\n",
              "      <td>1.000000</td>\n",
              "    </tr>\n",
              "  </tbody>\n",
              "</table>\n",
              "</div>"
            ],
            "text/plain": [
              "                        Account length  ...     Churn\n",
              "Account length                1.000000  ...  0.016541\n",
              "Area code                    -0.012463  ...  0.006174\n",
              "Number vmail messages        -0.004628  ... -0.089728\n",
              "Total day minutes             0.006216  ...  0.205151\n",
              "Total day calls               0.038470  ...  0.018459\n",
              "Total day charge              0.006214  ...  0.205151\n",
              "Total eve minutes            -0.006757  ...  0.092796\n",
              "Total eve calls               0.019260  ...  0.009233\n",
              "Total eve charge             -0.006745  ...  0.092786\n",
              "Total night minutes          -0.008955  ...  0.035493\n",
              "Total night calls            -0.013176  ...  0.006141\n",
              "Total night charge           -0.008960  ...  0.035496\n",
              "Total intl minutes            0.009514  ...  0.068239\n",
              "Total intl calls              0.020661  ... -0.052844\n",
              "Total intl charge             0.009546  ...  0.068259\n",
              "Customer service calls       -0.003796  ...  0.208750\n",
              "Churn                         0.016541  ...  1.000000\n",
              "\n",
              "[17 rows x 17 columns]"
            ]
          },
          "metadata": {},
          "execution_count": 7
        }
      ]
    },
    {
      "cell_type": "code",
      "metadata": {
        "id": "56jzg9gqfD4d",
        "colab": {
          "base_uri": "https://localhost:8080/"
        },
        "outputId": "4d28b1bc-9089-49d8-b3ad-4e41ff80b50d"
      },
      "source": [
        "df.isnull().values.sum()"
      ],
      "execution_count": null,
      "outputs": [
        {
          "output_type": "execute_result",
          "data": {
            "text/plain": [
              "0"
            ]
          },
          "metadata": {},
          "execution_count": 8
        }
      ]
    },
    {
      "cell_type": "markdown",
      "metadata": {
        "id": "TgR0qpFzfIA0"
      },
      "source": [
        "There is no missing data in our dataset\n",
        "\n",
        "Churn = False means the customer is still using the service\n",
        "\n",
        "Churn = True means that the customer discontinued the service"
      ]
    },
    {
      "cell_type": "code",
      "metadata": {
        "id": "QfVHlI2qfRHr",
        "colab": {
          "base_uri": "https://localhost:8080/",
          "height": 427
        },
        "outputId": "49c483cd-1875-4e26-c3ae-4351ace25286"
      },
      "source": [
        "df_count = (df.Churn.value_counts())\n",
        "total = sum(df_count)\n",
        "data_percentage = (df_count)/total*100\n",
        "plt.figure(figsize=(7,7))\n",
        "plt.pie(data_percentage,explode=(0,0.1), labels = [round(i,2) for i in (list(data_percentage))],colors=['#ff6666','#989898'])\n",
        "plt.title(label ='Churn Percentage',fontstyle='italic',loc= 'left')\n",
        "plt.legend(labels=['False','True'])\n",
        "plt.show()"
      ],
      "execution_count": null,
      "outputs": [
        {
          "output_type": "display_data",
          "data": {
            "image/png": "[encoded data removed]",
            "text/plain": [
              "<Figure size 504x504 with 1 Axes>"
            ]
          },
          "metadata": {}
        }
      ]
    },
    {
      "cell_type": "markdown",
      "metadata": {
        "id": "5jvRZhZaffTZ"
      },
      "source": [
        "From the above donut chart we can infer that ( 483 ) 14.49% of customers have left the company"
      ]
    },
    {
      "cell_type": "code",
      "metadata": {
        "id": "Iq_zSzjafgXU"
      },
      "source": [
        "#Preparing necessary data for visualisation\n",
        "slist=df['State'].values\n",
        "#To distinguish between Churn True and False \n",
        "df_true = pd.DataFrame(df[df['Churn']==True].groupby(['State']).count().iloc[:]['Churn']).reset_index()\n",
        "df_false = pd.DataFrame(df[df['Churn']==False].groupby(['State']).count().iloc[:]['Churn']).reset_index()\n",
        "#Merging both the dataframes\n",
        "df_tf = pd.merge(df_true,df_false,on='State')\n",
        "df_tf.columns=['State','Churn True','Churn False']\n",
        "df_tf['Total']= df_tf['Churn False']+df_tf['Churn True']"
      ],
      "execution_count": null,
      "outputs": []
    },
    {
      "cell_type": "markdown",
      "metadata": {
        "id": "EqAkUcVUfvsn"
      },
      "source": [
        "Statewise Churn Distribution"
      ]
    },
    {
      "cell_type": "code",
      "metadata": {
        "id": "sNkVhDUofxDK",
        "colab": {
          "base_uri": "https://localhost:8080/",
          "height": 518
        },
        "outputId": "da242a74-d5e5-4ed6-8029-b74ceb0b4b89"
      },
      "source": [
        "# Plot 1\n",
        "labels = slist[:51]\n",
        "cf = list(df_tf['Churn False'][:51])\n",
        "ct = list(df_tf['Churn True'][:51])\n",
        "\n",
        "x= np.arange(len(labels))\n",
        "width = 0.30\n",
        "\n",
        "fig, ax=plt.subplots(figsize=(25,8))\n",
        "\n",
        "r1=ax.bar(x-width/2,cf,width,label='Churn False',color='#FF4032')\n",
        "r2=ax.bar(x+width/2,ct,width,label='Churn True',color='#FF9F99')\n",
        "ax.set_ylabel('Total Churn')\n",
        "ax.set_xlabel('States')\n",
        "ax.set_title('Statewise Churn')\n",
        "ax.set_xticks(x)\n",
        "ax.set_xticklabels(labels)\n",
        "ax.legend()\n",
        "plt.plot()"
      ],
      "execution_count": null,
      "outputs": [
        {
          "output_type": "execute_result",
          "data": {
            "text/plain": [
              "[]"
            ]
          },
          "metadata": {},
          "execution_count": 11
        },
        {
          "output_type": "display_data",
          "data": {
            "image/png": "[encoded data removed]",
            "text/plain": [
              "<Figure size 1800x576 with 1 Axes>"
            ]
          },
          "metadata": {
            "needs_background": "light"
          }
        }
      ]
    },
    {
      "cell_type": "markdown",
      "metadata": {
        "id": "zN7tOBXXf8Yw"
      },
      "source": [
        "1) Over all from the above graph the customers are not prone to churning\n",
        "\n",
        "2) WY,ID,OH,MT & OR are the states which have good retention rate\n",
        "\n",
        "3) Fl & AZ are the states which have bad retention rate\n",
        "\n",
        "4) People from state 'WY' are enjoying the telecom service most among all     other states\n",
        "\n",
        "5) NH is the state which has low retention rate"
      ]
    },
    {
      "cell_type": "code",
      "metadata": {
        "colab": {
          "base_uri": "https://localhost:8080/",
          "height": 142
        },
        "id": "NGM-70YLYa77",
        "outputId": "e860ee47-ea24-4e0a-efaf-33afe8dc35eb"
      },
      "source": [
        "#Lets analyse churn based on various plans for the customers\n",
        "pd.crosstab(df[\"Churn\"], df[\"International plan\"])"
      ],
      "execution_count": null,
      "outputs": [
        {
          "output_type": "execute_result",
          "data": {
            "text/html": [
              "<div>\n",
              "<style scoped>\n",
              "    .dataframe tbody tr th:only-of-type {\n",
              "        vertical-align: middle;\n",
              "    }\n",
              "\n",
              "    .dataframe tbody tr th {\n",
              "        vertical-align: top;\n",
              "    }\n",
              "\n",
              "    .dataframe thead th {\n",
              "        text-align: right;\n",
              "    }\n",
              "</style>\n",
              "<table border=\"1\" class=\"dataframe\">\n",
              "  <thead>\n",
              "    <tr style=\"text-align: right;\">\n",
              "      <th>International plan</th>\n",
              "      <th>No</th>\n",
              "      <th>Yes</th>\n",
              "    </tr>\n",
              "    <tr>\n",
              "      <th>Churn</th>\n",
              "      <th></th>\n",
              "      <th></th>\n",
              "    </tr>\n",
              "  </thead>\n",
              "  <tbody>\n",
              "    <tr>\n",
              "      <th>False</th>\n",
              "      <td>2664</td>\n",
              "      <td>186</td>\n",
              "    </tr>\n",
              "    <tr>\n",
              "      <th>True</th>\n",
              "      <td>346</td>\n",
              "      <td>137</td>\n",
              "    </tr>\n",
              "  </tbody>\n",
              "</table>\n",
              "</div>"
            ],
            "text/plain": [
              "International plan    No  Yes\n",
              "Churn                        \n",
              "False               2664  186\n",
              "True                 346  137"
            ]
          },
          "metadata": {},
          "execution_count": 12
        }
      ]
    },
    {
      "cell_type": "code",
      "metadata": {
        "colab": {
          "base_uri": "https://localhost:8080/",
          "height": 142
        },
        "id": "DaLJ5iUIZxMs",
        "outputId": "bfb4611e-96bd-4a84-cdc2-a2e38d156664"
      },
      "source": [
        "pd.crosstab(df[\"Churn\"], df[\"Voice mail plan\"], normalize=True)"
      ],
      "execution_count": null,
      "outputs": [
        {
          "output_type": "execute_result",
          "data": {
            "text/html": [
              "<div>\n",
              "<style scoped>\n",
              "    .dataframe tbody tr th:only-of-type {\n",
              "        vertical-align: middle;\n",
              "    }\n",
              "\n",
              "    .dataframe tbody tr th {\n",
              "        vertical-align: top;\n",
              "    }\n",
              "\n",
              "    .dataframe thead th {\n",
              "        text-align: right;\n",
              "    }\n",
              "</style>\n",
              "<table border=\"1\" class=\"dataframe\">\n",
              "  <thead>\n",
              "    <tr style=\"text-align: right;\">\n",
              "      <th>Voice mail plan</th>\n",
              "      <th>No</th>\n",
              "      <th>Yes</th>\n",
              "    </tr>\n",
              "    <tr>\n",
              "      <th>Churn</th>\n",
              "      <th></th>\n",
              "      <th></th>\n",
              "    </tr>\n",
              "  </thead>\n",
              "  <tbody>\n",
              "    <tr>\n",
              "      <th>False</th>\n",
              "      <td>0.602460</td>\n",
              "      <td>0.252625</td>\n",
              "    </tr>\n",
              "    <tr>\n",
              "      <th>True</th>\n",
              "      <td>0.120912</td>\n",
              "      <td>0.024002</td>\n",
              "    </tr>\n",
              "  </tbody>\n",
              "</table>\n",
              "</div>"
            ],
            "text/plain": [
              "Voice mail plan        No       Yes\n",
              "Churn                              \n",
              "False            0.602460  0.252625\n",
              "True             0.120912  0.024002"
            ]
          },
          "metadata": {},
          "execution_count": 13
        }
      ]
    },
    {
      "cell_type": "code",
      "metadata": {
        "id": "Uxcw1aM1giSp",
        "colab": {
          "base_uri": "https://localhost:8080/",
          "height": 427
        },
        "outputId": "c8684f51-f4d1-4c9c-862f-e8d0949a7b4a"
      },
      "source": [
        "#Finding out number of customers who left company from different plans\n",
        "\n",
        "df_int_plan = pd.DataFrame(df[df['Churn']==True].groupby(['International plan','Voice mail plan']).count())['Churn'].reset_index()\n",
        "\n",
        "#Plot a pie chart \n",
        "plt.figure(figsize=(7,7))\n",
        "plt.pie(df_int_plan['Churn'],explode=(0.1,0.1,0.1,0.1),labels=['No plan','Voice  mail plan','International plan','Both plans'],colors=['#00FA9A','#FFEBCD','#989898','#40E0D0'],autopct=\"%1.2f%%\")\n",
        "\n",
        "plt.title(label =\"Consumer Churn based on different plans\",fontstyle='italic',loc= 'left')\n",
        "plt.show()\n"
      ],
      "execution_count": null,
      "outputs": [
        {
          "output_type": "display_data",
          "data": {
            "image/png": "[encoded data removed]",
            "text/plain": [
              "<Figure size 504x504 with 1 Axes>"
            ]
          },
          "metadata": {}
        }
      ]
    },
    {
      "cell_type": "markdown",
      "metadata": {
        "id": "hZlt3tFmgsMB"
      },
      "source": [
        "From this Plot , we can infer that customers with no plan churn the most. International plan subscribers tend to churn more compared to the voice mail plan customers"
      ]
    },
    {
      "cell_type": "code",
      "metadata": {
        "colab": {
          "base_uri": "https://localhost:8080/"
        },
        "id": "NvexcwcwET3O",
        "outputId": "fcacde11-abfb-416a-8719-c65d8fc6d809"
      },
      "source": [
        "df['Customer service calls'].value_counts()"
      ],
      "execution_count": null,
      "outputs": [
        {
          "output_type": "execute_result",
          "data": {
            "text/plain": [
              "1    1181\n",
              "2     759\n",
              "0     697\n",
              "3     429\n",
              "4     166\n",
              "5      66\n",
              "6      22\n",
              "7       9\n",
              "9       2\n",
              "8       2\n",
              "Name: Customer service calls, dtype: int64"
            ]
          },
          "metadata": {},
          "execution_count": 15
        }
      ]
    },
    {
      "cell_type": "code",
      "metadata": {
        "colab": {
          "base_uri": "https://localhost:8080/",
          "height": 350
        },
        "id": "bV2rpHoqEaAH",
        "outputId": "71a11eaf-b26e-4c8b-c996-d8cef3c8417f"
      },
      "source": [
        "sns.boxplot(df['Customer service calls'])"
      ],
      "execution_count": null,
      "outputs": [
        {
          "output_type": "stream",
          "name": "stderr",
          "text": [
            "/usr/local/lib/python3.7/dist-packages/seaborn/_decorators.py:43: FutureWarning: Pass the following variable as a keyword arg: x. From version 0.12, the only valid positional argument will be `data`, and passing other arguments without an explicit keyword will result in an error or misinterpretation.\n",
            "  FutureWarning\n"
          ]
        },
        {
          "output_type": "execute_result",
          "data": {
            "text/plain": [
              "<matplotlib.axes._subplots.AxesSubplot at 0x7fe107171590>"
            ]
          },
          "metadata": {},
          "execution_count": 16
        },
        {
          "output_type": "display_data",
          "data": {
            "image/png": "[encoded data removed]",
            "text/plain": [
              "<Figure size 432x288 with 1 Axes>"
            ]
          },
          "metadata": {
            "needs_background": "light"
          }
        }
      ]
    },
    {
      "cell_type": "code",
      "metadata": {
        "colab": {
          "base_uri": "https://localhost:8080/",
          "height": 606
        },
        "id": "FPRSicXaEgl6",
        "outputId": "21feade7-9918-4349-d90d-bbe5c66e4c84"
      },
      "source": [
        "plt.rcParams['figure.figsize'] = (15, 10)\n",
        "ax = sns.countplot(x ='Customer service calls', hue = 'Churn', data = df);"
      ],
      "execution_count": null,
      "outputs": [
        {
          "output_type": "display_data",
          "data": {
            "image/png": "[encoded data removed]",
            "text/plain": [
              "<Figure size 1080x720 with 1 Axes>"
            ]
          },
          "metadata": {
            "needs_background": "light"
          }
        }
      ]
    },
    {
      "cell_type": "code",
      "metadata": {
        "id": "dK0DwptYgr1c"
      },
      "source": [
        "df_cc = pd.DataFrame(df[df['Churn']].groupby(['Customer service calls']).count().iloc[:]['Churn']).reset_index()\n",
        "df_cs = pd.DataFrame(df['Customer service calls'].value_counts()).reset_index()"
      ],
      "execution_count": null,
      "outputs": []
    },
    {
      "cell_type": "code",
      "metadata": {
        "id": "ac_Hk3Q4g1i7",
        "colab": {
          "base_uri": "https://localhost:8080/",
          "height": 634
        },
        "outputId": "f75ed6d6-4c37-4a14-dbbd-1d294a13f2ee"
      },
      "source": [
        "#Lets analyse churn from customer calls point of view.\n",
        "df_c =pd.merge(df_cc,df_cs,left_on='Customer service calls',right_on='index')\n",
        "df_c['%'] = round((df_c['Churn'] / df_c['Customer service calls_y']),2)\n",
        "#Plot a bar graph\n",
        "df_c.plot(kind='bar',color=['#ffe6e6','#ffcccc','#ffb3b3','#ff9999','#ff8080','#ff6666','#ff4d4d','#ff3333','#ff1a1a','#ff0000'],x='%',y='Customer service calls_x',)\n",
        "plt.xlabel('% of customers churn after customer service calls')\n",
        "plt.ylabel('Number of customer service calls')\n",
        "plt.title('Plot of % of people churning after customer service calls')\n",
        "plt.legend().remove()"
      ],
      "execution_count": null,
      "outputs": [
        {
          "output_type": "display_data",
          "data": {
            "image/png": "[encoded data removed]",
            "text/plain": [
              "<Figure size 1080x720 with 1 Axes>"
            ]
          },
          "metadata": {
            "needs_background": "light"
          }
        }
      ]
    },
    {
      "cell_type": "markdown",
      "metadata": {
        "id": "CFSfNN7VhCfN"
      },
      "source": [
        "From this plot it can be observed that 61 % of customers churn after 5 customer service calls."
      ]
    },
    {
      "cell_type": "code",
      "metadata": {
        "id": "YHJ3V3hShNAw",
        "colab": {
          "base_uri": "https://localhost:8080/"
        },
        "outputId": "f525ed73-e0db-4efc-d776-1d978de127ff"
      },
      "source": [
        "# Lets get mean values of calls,minutes and charge for day ,eve,night,intl calls\n",
        "A =[int(df.agg({'Total day minutes' : 'mean'})),float(df.agg({'Total day calls' :'mean'})),int(df.agg({'Total day charge' : 'mean'}))]\n",
        "B = [int(df.agg({'Total eve minutes' : 'mean'})),int(df.agg({'Total eve calls' :'mean'})),int(df.agg({'Total eve charge' : 'mean'}))]\n",
        "C =[int(df.agg({'Total night minutes' : 'mean'})),int(df.agg({'Total night calls' :'mean'})),int(df.agg({'Total night charge' : 'mean'}))]\n",
        "D =[int(df.agg({'Total intl minutes' : 'mean'})),int(df.agg({'Total intl calls' :'mean'})),int(df.agg({'Total intl charge' : 'mean'}))]\n",
        "a=[A,B,C,D]\n",
        "a"
      ],
      "execution_count": null,
      "outputs": [
        {
          "output_type": "execute_result",
          "data": {
            "text/plain": [
              "[[179, 100.43564356435644, 30], [200, 100, 17], [200, 100, 9], [10, 4, 2]]"
            ]
          },
          "metadata": {},
          "execution_count": 20
        }
      ]
    },
    {
      "cell_type": "markdown",
      "metadata": {
        "id": "rMH1LaZchU2S"
      },
      "source": [
        "from the above mean values we can infer that the international call rate per minute seems to be high, if it is made optimal then the customers would retain to the international subscription plan"
      ]
    },
    {
      "cell_type": "code",
      "metadata": {
        "id": "aZPPImpO_gtK"
      },
      "source": [
        ""
      ],
      "execution_count": null,
      "outputs": []
    },
    {
      "cell_type": "code",
      "metadata": {
        "id": "ULo_H5T8hV1w",
        "colab": {
          "base_uri": "https://localhost:8080/",
          "height": 309
        },
        "outputId": "9f2b22a7-b7c7-4a3e-88de-fe76f5999574"
      },
      "source": [
        "#Lets plot subplots \n",
        "x=['day','eve','night']\n",
        "y=[179.000000,\t200.0,\t200.0]\n",
        "plt.figure(figsize=(15,5))\n",
        "plt.subplot(1,3,1)\n",
        "plt.ylabel('Mean call minutes')\n",
        "plt.title('Mean call minutes across a day')\n",
        "plt.plot(x,y)\n",
        "\n",
        "x=['day','eve','night']\n",
        "y= [100.43564356435644,100,100]\n",
        "plt.subplot(1,3,2)\n",
        "plt.ylabel('Mean calls')\n",
        "plt.title('Mean calls across a day')\n",
        "plt.plot(x,y)\n",
        "\n",
        "x=['day','eve','night']\n",
        "y=[30,17,9]\n",
        "plt.subplot(1,3,3)\n",
        "plt.ylabel('Mean call charges')\n",
        "plt.title('Mean call charges across a day')\n",
        "plt.plot(x,y)\n",
        "plt.subplots_adjust(left=0.25,bottom=0.2,right=0.9,wspace=1,hspace=0.5)"
      ],
      "execution_count": null,
      "outputs": [
        {
          "output_type": "display_data",
          "data": {
            "image/png": "[encoded data removed]",
            "text/plain": [
              "<Figure size 1080x360 with 3 Axes>"
            ]
          },
          "metadata": {
            "needs_background": "light"
          }
        }
      ]
    },
    {
      "cell_type": "markdown",
      "metadata": {
        "id": "srquxU2BhfYF"
      },
      "source": [
        "From these plots we can infer that it costs the most to make day calls"
      ]
    },
    {
      "cell_type": "code",
      "metadata": {
        "id": "VP-D-PU9hgZ9",
        "colab": {
          "base_uri": "https://localhost:8080/",
          "height": 623
        },
        "outputId": "6afe5153-07c6-444d-bf87-e9cc8de346e1"
      },
      "source": [
        "df_mean = df.groupby(['State']).mean()\n",
        "df_mean['Total charge']=df_mean['Total day charge']+df_mean['Total eve charge'] + df_mean['Total intl charge']+df_mean['Total night charge']\n",
        "df['Total charge']=df['Total day charge']+df['Total eve charge'] + df['Total intl charge']+df['Total night charge']\n",
        "sns.kdeplot(df['Total charge'],shade=True)"
      ],
      "execution_count": null,
      "outputs": [
        {
          "output_type": "execute_result",
          "data": {
            "text/plain": [
              "<matplotlib.axes._subplots.AxesSubplot at 0x7fe106853750>"
            ]
          },
          "metadata": {},
          "execution_count": 22
        },
        {
          "output_type": "display_data",
          "data": {
            "image/png": "[encoded data removed]",
            "text/plain": [
              "<Figure size 1080x720 with 1 Axes>"
            ]
          },
          "metadata": {
            "needs_background": "light"
          }
        }
      ]
    },
    {
      "cell_type": "code",
      "metadata": {
        "id": "_CJXKKkjhmY5",
        "colab": {
          "base_uri": "https://localhost:8080/"
        },
        "outputId": "1096e5f9-d270-4ca7-f7f6-88455f32689a"
      },
      "source": [
        "# Finding mean of total charge for people who have churned\n",
        "df['Total charge']=df['Total day charge']+df['Total eve charge'] + df['Total intl charge']+df['Total night charge']\n",
        "df10 =df[df['Churn']==True].groupby(['Total charge']).mean().reset_index()\n",
        "df10['Total charge'].mean()"
      ],
      "execution_count": null,
      "outputs": [
        {
          "output_type": "execute_result",
          "data": {
            "text/plain": [
              "65.18963675213675"
            ]
          },
          "metadata": {},
          "execution_count": 23
        }
      ]
    },
    {
      "cell_type": "code",
      "metadata": {
        "id": "vz44PNLnhqIe",
        "colab": {
          "base_uri": "https://localhost:8080/"
        },
        "outputId": "a9a69e5f-53cd-4ffe-fa74-a9266eb92c66"
      },
      "source": [
        "# Finding mean of total charge for people who have not churned\n",
        "df11 = df[df['Churn']==False].groupby(['Total charge']).mean().reset_index()\n",
        "df11['Total charge'].mean()\n",
        "#Finding the percentage variation between the two numbers\n",
        "(df10['Total charge'].mean()-df11['Total charge'].mean())/df11['Total charge'].mean()"
      ],
      "execution_count": null,
      "outputs": [
        {
          "output_type": "execute_result",
          "data": {
            "text/plain": [
              "0.12297707724054738"
            ]
          },
          "metadata": {},
          "execution_count": 24
        }
      ]
    },
    {
      "cell_type": "markdown",
      "metadata": {
        "id": "cdoPmyrvhtku"
      },
      "source": [
        "The mean of the total charge is 12.3 % more for customers who churned compared to the customers who did not churn ."
      ]
    },
    {
      "cell_type": "code",
      "metadata": {
        "id": "Pr0sd8fAhvPi",
        "colab": {
          "base_uri": "https://localhost:8080/"
        },
        "outputId": "9e0450ef-ffa0-428b-bd8b-2811b6870db3"
      },
      "source": [
        "# Sorting account length for analysis\n",
        "df_len_sorted = df.sort_values(['Account length'],ascending = False)\n",
        "\n",
        "TList=[]\n",
        "FList=[]\n",
        "#Getting Details of people with account length within 50\n",
        "TList.append(df_len_sorted[3007 :].Churn.values.sum())\n",
        "FList.append((~df_len_sorted[3007 :].Churn).values.sum())\n",
        "\n",
        "#Getting Details of people with account length in range of 50 to 100\n",
        "TList.append(df_len_sorted[1706 : 3007].Churn.values.sum())\n",
        "FList.append((~df_len_sorted[1706 : 3007].Churn).values.sum())\n",
        "\n",
        "#Getting Details of people with account length in range of 100 to 150\n",
        "TList.append(df_len_sorted[367:1706].Churn.values.sum())\n",
        "FList.append((~df_len_sorted[367 : 1706].Churn).values.sum())\n",
        "\n",
        "#Getting Details of people with account length in range of 150 to 200\n",
        "TList.append(df_len_sorted[27:367].Churn.values.sum())\n",
        "FList.append((~df_len_sorted[27:367].Churn).values.sum())\n",
        "\n",
        "#Getting details of customers with account length above 200\n",
        "TList.append(df_len_sorted[:27].Churn.values.sum())\n",
        "FList.append((~df_len_sorted[:27].Churn).values.sum())\n",
        "\n",
        "TList\n"
      ],
      "execution_count": null,
      "outputs": [
        {
          "output_type": "execute_result",
          "data": {
            "text/plain": [
              "[42, 185, 200, 50, 6]"
            ]
          },
          "metadata": {},
          "execution_count": 25
        }
      ]
    },
    {
      "cell_type": "code",
      "metadata": {
        "id": "3fnXArsah2em",
        "colab": {
          "base_uri": "https://localhost:8080/",
          "height": 390
        },
        "outputId": "5d8a6fd4-f6b4-4408-c8ff-97ab322802ae"
      },
      "source": [
        "# Plot a graph of people with various account lengths churning.\n",
        "#n =[87.12,85.78,85,85.3,78]\n",
        "#m=[12.88,14.22,15,14.7,22]\n",
        "index=['Account length < 50','50 <= Account length < 100','100 <= Account length < 150','150 <= Account length < 200','Account length => 200']\n",
        "FList\n",
        "TList\n",
        "width= 0.35\n",
        "fig, ax = plt.subplots(figsize=(15,6))\n",
        "\n",
        "ax.bar(index,FList,width,label='Churn False',color='#AFEEEE')\n",
        "ax.bar(index,TList,width,bottom=FList,label='Churn True',color='#E0FFFF')\n",
        "ax.set_ylabel('Churn Count')\n",
        "ax.set_title('People with various account lengths and their churning.')\n",
        "ax.legend()\n",
        "plt.show()"
      ],
      "execution_count": null,
      "outputs": [
        {
          "output_type": "display_data",
          "data": {
            "image/png": "[encoded data removed]",
            "text/plain": [
              "<Figure size 1080x432 with 1 Axes>"
            ]
          },
          "metadata": {
            "needs_background": "light"
          }
        }
      ]
    },
    {
      "cell_type": "markdown",
      "metadata": {
        "id": "JYsqmLqVh7OE"
      },
      "source": [
        "From the graph we can infer that customers above account length of 150 are less in number compared to those below account length of 150 and all customers are churning irrespective of their account lengths."
      ]
    },
    {
      "cell_type": "markdown",
      "metadata": {
        "id": "AC4RFwgah8p2"
      },
      "source": [
        "# ***Conclusion :***\n",
        "\n",
        "1) ( 483 ) 14.49% of customers have left the company.\n",
        "\n",
        "2) OH,MT,SC are the states which have good retention rate\n",
        "\n",
        "3) Fl, AZ & NH are the states which have bad retention rate\n",
        "\n",
        "4) We can infer that people from state 'WY' are enjoying the telecom service most among all other states\n",
        "\n",
        "5) Customers with no plan churn the most. International plan subscribers tend to churn more compared to the voice mail plan customers as the cost for international calls are more compared to voice mail.\n",
        "\n",
        "6) Customers with more than 4 customer service calls are 62.6 % likely to churn the company.\n",
        "\n",
        "7) The mean of the total charge is 12.3 % more for customers who churned compared to the customers who did not churn .\n",
        "\n",
        "8) Customers above account length of 150 are less in number compared to those below account length of 150 and all customers are churning irrespective of the account length."
      ]
    },
    {
      "cell_type": "markdown",
      "metadata": {
        "id": "1dvm30idiLzW"
      },
      "source": [
        "# ***Recommendations :***\n",
        "\n",
        "1) The company can reduce Day call rates as there is a massive difference between day call rates and night call rates.\n",
        "\n",
        "2)The company can also look at giving offers to their subscription plans so that non subscribers of any plan can be nudged towards purchasing a subscription , as 62.53 % of the total churning is done by non subscribers who dont have a subscrption plan.\n",
        "\n",
        "3) The company can also work towards reducing international call rates so that international call plan holders will not churn the company.\n",
        "\n",
        "4) The company can look at reducing customer service calls by resolving the customer issues as soon as possible, because the customers are likely to churn the company as the number of calls increase.\n",
        "\n",
        "5)The Telecom Organization has to provide favourble offers to the customers whose account length is above 150 as loyalty bonus so that the customers wont churn."
      ]
    },
    {
      "cell_type": "code",
      "metadata": {
        "id": "4VZj4BgyiQAu"
      },
      "source": [
        ""
      ],
      "execution_count": null,
      "outputs": []
    },
    {
      "cell_type": "markdown",
      "metadata": {
        "id": "M_GVPz3kiIGv"
      },
      "source": [
        ""
      ]
    }
  ]
}